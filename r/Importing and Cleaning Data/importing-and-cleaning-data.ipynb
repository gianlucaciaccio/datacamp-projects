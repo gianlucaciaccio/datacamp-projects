{
 "cells": [
  {
   "cell_type": "markdown",
   "metadata": {
    "dc": {
     "key": "4"
    },
    "deletable": false,
    "editable": false,
    "run_control": {
     "frozen": true
    },
    "tags": [
     "context"
    ]
   },
   "source": [
    "## 1. Importing data part 1\n",
    "<p>What an exciting <a href=\"https://www.fifa.com/womensworldcup/\">FIFA Women's World Cup</a>! Congratulations to the <a href=\"https://www.ussoccer.com/teams/uswnt\">US Women's National Team</a> and to all the <a href=\"https://www.fifa.com/womensworldcup/teams/\">national teams</a> who made the tournament such a great event!</p>\n",
    "<p><img src=\"https://assets.datacamp.com/production/project_758/img/football_soccer.jpg\" alt=\"football\">\n",
    "<em>Source: <a href=\"https://commons.wikimedia.org/wiki/File:Football_pictogram.svg\">Wikimedia Commons</a></em></p>\n",
    "<p>Now that the tournament is over, our boss at <em>Crunching Numbers</em> needs to know which match/stadium had the highest attendance during the women's world cup. Thankfully, one of our trusty interns, Bob, already has the data for us. After chatting with Bob about his football (soccer in the US) obsession, we learned that he collected the data by either watching the games or reading the <a href=\"https://www.fifa.com/womensworldcup/matches/?#groupphase\">FIFA Women's World Cup match reports</a>. He manually entered the data into a flat file (.csv) and emailed it to us.</p>\n",
    "<p>Let's read in the file and explore the raw data!</p>"
   ]
  },
  {
   "cell_type": "code",
   "execution_count": 2,
   "metadata": {
    "dc": {
     "key": "4"
    },
    "tags": [
     "sample_code"
    ]
   },
   "outputs": [
    {
     "name": "stderr",
     "output_type": "stream",
     "text": [
      "\n",
      "Attaching package: 'dplyr'\n",
      "\n",
      "The following objects are masked from 'package:stats':\n",
      "\n",
      "    filter, lag\n",
      "\n",
      "The following objects are masked from 'package:base':\n",
      "\n",
      "    intersect, setdiff, setequal, union\n",
      "\n",
      "Parsed with column specification:\n",
      "cols(\n",
      "  Round = \u001b[31mcol_character()\u001b[39m,\n",
      "  Wk = \u001b[31mcol_character()\u001b[39m,\n",
      "  Day = \u001b[31mcol_character()\u001b[39m,\n",
      "  Date = \u001b[31mcol_character()\u001b[39m,\n",
      "  Time = \u001b[34mcol_time(format = \"\")\u001b[39m,\n",
      "  Home = \u001b[31mcol_character()\u001b[39m,\n",
      "  Score = \u001b[31mcol_character()\u001b[39m,\n",
      "  PKS = \u001b[31mcol_character()\u001b[39m,\n",
      "  Away = \u001b[31mcol_character()\u001b[39m,\n",
      "  Attendance = \u001b[32mcol_double()\u001b[39m,\n",
      "  Venue = \u001b[31mcol_character()\u001b[39m,\n",
      "  Referee = \u001b[31mcol_character()\u001b[39m,\n",
      "  Notes = \u001b[31mcol_character()\u001b[39m\n",
      ")\n"
     ]
    },
    {
     "name": "stdout",
     "output_type": "stream",
     "text": [
      "Rows: 55\n",
      "Columns: 13\n",
      "$ Round      \u001b[3m\u001b[38;5;246m<chr>\u001b[39m\u001b[23m \"Group stage\", \"Group stage\", \"Group stage\", \"Group stag...\n",
      "$ Wk         \u001b[3m\u001b[38;5;246m<chr>\u001b[39m\u001b[23m \"1\", \"1\", \"1\", \"1\", \"1\", \"1\", \"1\", \"1\", \"1\", \"1\", \"1\", \"...\n",
      "$ Day        \u001b[3m\u001b[38;5;246m<chr>\u001b[39m\u001b[23m \"Fri\", \"Sat\", \"Sat\", \"Sat\", \"Sun\", \"Sun\", \"Sun\", \"Mon\", ...\n",
      "$ Date       \u001b[3m\u001b[38;5;246m<chr>\u001b[39m\u001b[23m \"06/07/19\", \"06/08/19\", \"06/08/19\", \"06/08/19\", \"06/09/1...\n",
      "$ Time       \u001b[3m\u001b[38;5;246m<time>\u001b[39m\u001b[23m 21:00:00, 15:00:00, 18:00:00, 21:00:00, 13:00:00, 15:30...\n",
      "$ Home       \u001b[3m\u001b[38;5;246m<chr>\u001b[39m\u001b[23m \"France\", \"Germany\", \"Spain\", \"Norway\", \"Australia\", \"Br...\n",
      "$ Score      \u001b[3m\u001b[38;5;246m<chr>\u001b[39m\u001b[23m \"4 - 0\", \"1 - 0\", \"3 - 1\", \"3 - 0\", \"1 - 2\", \"3 - 0\", \"2...\n",
      "$ PKS        \u001b[3m\u001b[38;5;246m<chr>\u001b[39m\u001b[23m NA, NA, NA, NA, NA, NA, NA, NA, NA, NA, NA, NA, NA, NA, ...\n",
      "$ Away       \u001b[3m\u001b[38;5;246m<chr>\u001b[39m\u001b[23m \"Korea Rep\", \"China PR\", \"South Africa\", \"Nigeria\", \"Ita...\n",
      "$ Attendance \u001b[3m\u001b[38;5;246m<dbl>\u001b[39m\u001b[23m 45261, 15283, 12044, 11058, 15380, 17668, 13188, 25055, ...\n",
      "$ Venue      \u001b[3m\u001b[38;5;246m<chr>\u001b[39m\u001b[23m \"Parc des Princes\", \"Roazhon Park\", \"Stade Oceane\", \"Sta...\n",
      "$ Referee    \u001b[3m\u001b[38;5;246m<chr>\u001b[39m\u001b[23m \"Claudia Umpierrez\", \"Marie-Soleil Beaudoin\", \"Maria Car...\n",
      "$ Notes      \u001b[3m\u001b[38;5;246m<chr>\u001b[39m\u001b[23m NA, NA, NA, NA, NA, NA, NA, NA, NA, NA, NA, NA, NA, NA, ...\n"
     ]
    },
    {
     "data": {
      "text/plain": [
       "    Round                Wk                Day                Date          \n",
       " Length:55          Length:55          Length:55          Length:55         \n",
       " Class :character   Class :character   Class :character   Class :character  \n",
       " Mode  :character   Mode  :character   Mode  :character   Mode  :character  \n",
       "                                                                            \n",
       "                                                                            \n",
       "                                                                            \n",
       "                                                                            \n",
       "     Time              Home              Score               PKS           \n",
       " Length:55         Length:55          Length:55          Length:55         \n",
       " Class1:hms        Class :character   Class :character   Class :character  \n",
       " Class2:difftime   Mode  :character   Mode  :character   Mode  :character  \n",
       " Mode  :numeric                                                            \n",
       "                                                                           \n",
       "                                                                           \n",
       "                                                                           \n",
       "     Away             Attendance        Venue             Referee         \n",
       " Length:55          Min.   :  8009   Length:55          Length:55         \n",
       " Class :character   1st Qu.: 13476   Class :character   Class :character  \n",
       " Mode  :character   Median : 18934   Mode  :character   Mode  :character  \n",
       "                    Mean   : 31777                                        \n",
       "                    3rd Qu.: 22941                                        \n",
       "                    Max.   :579000                                        \n",
       "                    NA's   :3                                             \n",
       "    Notes          \n",
       " Length:55         \n",
       " Class :character  \n",
       " Mode  :character  \n",
       "                   \n",
       "                   \n",
       "                   \n",
       "                   "
      ]
     },
     "metadata": {},
     "output_type": "display_data"
    },
    {
     "name": "stdout",
     "output_type": "stream",
     "text": [
      "tibble [55 x 13] (S3: spec_tbl_df/tbl_df/tbl/data.frame)\n",
      " $ Round     : chr [1:55] \"Group stage\" \"Group stage\" \"Group stage\" \"Group stage\" ...\n",
      " $ Wk        : chr [1:55] \"1\" \"1\" \"1\" \"1\" ...\n",
      " $ Day       : chr [1:55] \"Fri\" \"Sat\" \"Sat\" \"Sat\" ...\n",
      " $ Date      : chr [1:55] \"06/07/19\" \"06/08/19\" \"06/08/19\" \"06/08/19\" ...\n",
      " $ Time      : 'hms' num [1:55] 21:00:00 15:00:00 18:00:00 21:00:00 ...\n",
      "  ..- attr(*, \"units\")= chr \"secs\"\n",
      " $ Home      : chr [1:55] \"France\" \"Germany\" \"Spain\" \"Norway\" ...\n",
      " $ Score     : chr [1:55] \"4 - 0\" \"1 - 0\" \"3 - 1\" \"3 - 0\" ...\n",
      " $ PKS       : chr [1:55] NA NA NA NA ...\n",
      " $ Away      : chr [1:55] \"Korea Rep\" \"China PR\" \"South Africa\" \"Nigeria\" ...\n",
      " $ Attendance: num [1:55] 45261 15283 12044 11058 15380 ...\n",
      " $ Venue     : chr [1:55] \"Parc des Princes\" \"Roazhon Park\" \"Stade Oceane\" \"Stade Auguste-Delaune II\" ...\n",
      " $ Referee   : chr [1:55] \"Claudia Umpierrez\" \"Marie-Soleil Beaudoin\" \"Maria Carvajal\" \"Kate Jacewicz\" ...\n",
      " $ Notes     : chr [1:55] NA NA NA NA ...\n",
      " - attr(*, \"spec\")=\n",
      "  .. cols(\n",
      "  ..   Round = \u001b[31mcol_character()\u001b[39m,\n",
      "  ..   Wk = \u001b[31mcol_character()\u001b[39m,\n",
      "  ..   Day = \u001b[31mcol_character()\u001b[39m,\n",
      "  ..   Date = \u001b[31mcol_character()\u001b[39m,\n",
      "  ..   Time = \u001b[34mcol_time(format = \"\")\u001b[39m,\n",
      "  ..   Home = \u001b[31mcol_character()\u001b[39m,\n",
      "  ..   Score = \u001b[31mcol_character()\u001b[39m,\n",
      "  ..   PKS = \u001b[31mcol_character()\u001b[39m,\n",
      "  ..   Away = \u001b[31mcol_character()\u001b[39m,\n",
      "  ..   Attendance = \u001b[32mcol_double()\u001b[39m,\n",
      "  ..   Venue = \u001b[31mcol_character()\u001b[39m,\n",
      "  ..   Referee = \u001b[31mcol_character()\u001b[39m,\n",
      "  ..   Notes = \u001b[31mcol_character()\u001b[39m\n",
      "  .. )\n"
     ]
    }
   ],
   "source": [
    "# In this project code scaffolding will only be given for functions that were not \n",
    "# explained in the prerequisite courses. Look at the hints if you need help.\n",
    "\n",
    "# Load the packages\n",
    "library(readr)\n",
    "library(dplyr)\n",
    "\n",
    "# Read in the data from the datasets folder\n",
    "wwc_raw <- read_csv('datasets/2019_WWCFIFA_summary.csv')\n",
    "\n",
    "# Check the dimensions and structure of the data\n",
    "glimpse(wwc_raw)\n",
    "summary(wwc_raw)\n",
    "str(wwc_raw)"
   ]
  },
  {
   "cell_type": "markdown",
   "metadata": {
    "dc": {
     "key": "12"
    },
    "deletable": false,
    "editable": false,
    "run_control": {
     "frozen": true
    },
    "tags": [
     "context"
    ]
   },
   "source": [
    "## 2. Importing data part 2\n",
    "<p>Looking at the outputs, we notice a few things about the data. First, we have some <code>NA</code>s to address. Second, most of the columns are of type <code>character</code>. One of the differences between <code>read_csv()</code> (<code>readr</code>) and <code>read.csv()</code> (<code>utils</code>) is how character strings are treated. With <code>read.csv()</code> strings are coerced to factors, while in <code>read_csv()</code> strings are not coerced. Let's import the data again, but this time, we will assign data types to the <code>Round</code>, <code>Date</code>, and <code>Venue</code> columns. </p>\n",
    "<p><br></p>\n",
    "<p><strong>Instructor's note</strong>: My apologies for several incorrect spellings. Stade Oceane should be <em>Stade Océane</em>. The correct spellings of the names of the referees are <em>Stéphanie Frappart</em>, <em>Katalin Kulcsár</em>, and <em>Claudia Umpiérrez</em>. Accents are not currently supported in Jupyter Notebook outputs on DataCamp and had to be removed from the data file. </p>"
   ]
  },
  {
   "cell_type": "code",
   "execution_count": 4,
   "metadata": {
    "dc": {
     "key": "12"
    },
    "tags": [
     "sample_code"
    ]
   },
   "outputs": [
    {
     "name": "stdout",
     "output_type": "stream",
     "text": [
      "Rows: 55\n",
      "Columns: 13\n",
      "$ Round      \u001b[3m\u001b[38;5;246m<fct>\u001b[39m\u001b[23m Group stage, Group stage, Group stage, Group stage, Grou...\n",
      "$ Wk         \u001b[3m\u001b[38;5;246m<chr>\u001b[39m\u001b[23m \"1\", \"1\", \"1\", \"1\", \"1\", \"1\", \"1\", \"1\", \"1\", \"1\", \"1\", \"...\n",
      "$ Day        \u001b[3m\u001b[38;5;246m<chr>\u001b[39m\u001b[23m \"Fri\", \"Sat\", \"Sat\", \"Sat\", \"Sun\", \"Sun\", \"Sun\", \"Mon\", ...\n",
      "$ Date       \u001b[3m\u001b[38;5;246m<date>\u001b[39m\u001b[23m 2019-06-07, 2019-06-08, 2019-06-08, 2019-06-08, 2019-06...\n",
      "$ Time       \u001b[3m\u001b[38;5;246m<time>\u001b[39m\u001b[23m 21:00:00, 15:00:00, 18:00:00, 21:00:00, 13:00:00, 15:30...\n",
      "$ Home       \u001b[3m\u001b[38;5;246m<chr>\u001b[39m\u001b[23m \"France\", \"Germany\", \"Spain\", \"Norway\", \"Australia\", \"Br...\n",
      "$ Score      \u001b[3m\u001b[38;5;246m<chr>\u001b[39m\u001b[23m \"4 - 0\", \"1 - 0\", \"3 - 1\", \"3 - 0\", \"1 - 2\", \"3 - 0\", \"2...\n",
      "$ PKS        \u001b[3m\u001b[38;5;246m<chr>\u001b[39m\u001b[23m NA, NA, NA, NA, NA, NA, NA, NA, NA, NA, NA, NA, NA, NA, ...\n",
      "$ Away       \u001b[3m\u001b[38;5;246m<chr>\u001b[39m\u001b[23m \"Korea Rep\", \"China PR\", \"South Africa\", \"Nigeria\", \"Ita...\n",
      "$ Attendance \u001b[3m\u001b[38;5;246m<dbl>\u001b[39m\u001b[23m 45261, 15283, 12044, 11058, 15380, 17668, 13188, 25055, ...\n",
      "$ Venue      \u001b[3m\u001b[38;5;246m<fct>\u001b[39m\u001b[23m Parc des Princes, Roazhon Park, Stade Oceane, Stade Augu...\n",
      "$ Referee    \u001b[3m\u001b[38;5;246m<chr>\u001b[39m\u001b[23m \"Claudia Umpierrez\", \"Marie-Soleil Beaudoin\", \"Maria Car...\n",
      "$ Notes      \u001b[3m\u001b[38;5;246m<chr>\u001b[39m\u001b[23m NA, NA, NA, NA, NA, NA, NA, NA, NA, NA, NA, NA, NA, NA, ...\n"
     ]
    },
    {
     "data": {
      "text/plain": [
       "             Round         Wk                Day           \n",
       " Group stage    :36   Length:55          Length:55         \n",
       " Round of 16    : 8   Class :character   Class :character  \n",
       " Quarterfinals  : 4   Mode  :character   Mode  :character  \n",
       " Semifinals     : 2                                        \n",
       " 3rd-place match: 1                                        \n",
       " Final          : 1                                        \n",
       " NA's           : 3                                        \n",
       "      Date                Time              Home              Score          \n",
       " Min.   :2019-06-07   Length:55         Length:55          Length:55         \n",
       " 1st Qu.:2019-06-12   Class1:hms        Class :character   Class :character  \n",
       " Median :2019-06-17   Class2:difftime   Mode  :character   Mode  :character  \n",
       " Mean   :2019-06-18   Mode  :numeric                                         \n",
       " 3rd Qu.:2019-06-23                                                          \n",
       " Max.   :2019-07-07                                                          \n",
       " NA's   :4                                                                   \n",
       "     PKS                Away             Attendance    \n",
       " Length:55          Length:55          Min.   :  8009  \n",
       " Class :character   Class :character   1st Qu.: 13476  \n",
       " Mode  :character   Mode  :character   Median : 18934  \n",
       "                                       Mean   : 31777  \n",
       "                                       3rd Qu.: 22941  \n",
       "                                       Max.   :579000  \n",
       "                                       NA's   :3       \n",
       "                      Venue      Referee             Notes          \n",
       " Parc des Princes        : 7   Length:55          Length:55         \n",
       " Roazhon Park            : 7   Class :character   Class :character  \n",
       " Stade Oceane            : 7   Mode  :character   Mode  :character  \n",
       " Stade Auguste-Delaune II: 6                                        \n",
       " Stade du Hainaut        : 6                                        \n",
       " (Other)                 :18                                        \n",
       " NA's                    : 4                                        "
      ]
     },
     "metadata": {},
     "output_type": "display_data"
    },
    {
     "name": "stdout",
     "output_type": "stream",
     "text": [
      "\u001b[38;5;246m# A tibble: 55 x 13\u001b[39m\n",
      "   Round Wk    Day   Date       Time  Home  Score PKS   Away  Attendance Venue\n",
      "   \u001b[3m\u001b[38;5;246m<fct>\u001b[39m\u001b[23m \u001b[3m\u001b[38;5;246m<chr>\u001b[39m\u001b[23m \u001b[3m\u001b[38;5;246m<chr>\u001b[39m\u001b[23m \u001b[3m\u001b[38;5;246m<date>\u001b[39m\u001b[23m     \u001b[3m\u001b[38;5;246m<tim>\u001b[39m\u001b[23m \u001b[3m\u001b[38;5;246m<chr>\u001b[39m\u001b[23m \u001b[3m\u001b[38;5;246m<chr>\u001b[39m\u001b[23m \u001b[3m\u001b[38;5;246m<chr>\u001b[39m\u001b[23m \u001b[3m\u001b[38;5;246m<chr>\u001b[39m\u001b[23m      \u001b[3m\u001b[38;5;246m<dbl>\u001b[39m\u001b[23m \u001b[3m\u001b[38;5;246m<fct>\u001b[39m\u001b[23m\n",
      "\u001b[38;5;250m 1\u001b[39m Grou~ 1     Fri   2019-06-07 21\u001b[38;5;246m:\u001b[39m00 Fran~ 4 - 0 \u001b[31mNA\u001b[39m    Kore~      \u001b[4m4\u001b[24m\u001b[4m5\u001b[24m261 Parc~\n",
      "\u001b[38;5;250m 2\u001b[39m Grou~ 1     Sat   2019-06-08 15\u001b[38;5;246m:\u001b[39m00 Germ~ 1 - 0 \u001b[31mNA\u001b[39m    Chin~      \u001b[4m1\u001b[24m\u001b[4m5\u001b[24m283 Roaz~\n",
      "\u001b[38;5;250m 3\u001b[39m Grou~ 1     Sat   2019-06-08 18\u001b[38;5;246m:\u001b[39m00 Spain 3 - 1 \u001b[31mNA\u001b[39m    Sout~      \u001b[4m1\u001b[24m\u001b[4m2\u001b[24m044 Stad~\n",
      "\u001b[38;5;250m 4\u001b[39m Grou~ 1     Sat   2019-06-08 21\u001b[38;5;246m:\u001b[39m00 Norw~ 3 - 0 \u001b[31mNA\u001b[39m    Nige~      \u001b[4m1\u001b[24m\u001b[4m1\u001b[24m058 Stad~\n",
      "\u001b[38;5;250m 5\u001b[39m Grou~ 1     Sun   2019-06-09 13\u001b[38;5;246m:\u001b[39m00 Aust~ 1 - 2 \u001b[31mNA\u001b[39m    Italy      \u001b[4m1\u001b[24m\u001b[4m5\u001b[24m380 Stad~\n",
      "\u001b[38;5;250m 6\u001b[39m Grou~ 1     Sun   \u001b[31mNA\u001b[39m         15\u001b[38;5;246m:\u001b[39m30 Braz~ 3 - 0 \u001b[31mNA\u001b[39m    Jama~      \u001b[4m1\u001b[24m\u001b[4m7\u001b[24m668 Stad~\n",
      "\u001b[38;5;250m 7\u001b[39m Grou~ 1     Sun   2019-06-09 18\u001b[38;5;246m:\u001b[39m00 Engl~ 2 - 1 \u001b[31mNA\u001b[39m    Scot~      \u001b[4m1\u001b[24m\u001b[4m3\u001b[24m188 Stad~\n",
      "\u001b[38;5;250m 8\u001b[39m Grou~ 1     Mon   2019-06-10 18\u001b[38;5;246m:\u001b[39m00 Arge~ 0 - 0 \u001b[31mNA\u001b[39m    Japan      \u001b[4m2\u001b[24m\u001b[4m5\u001b[24m055 Parc~\n",
      "\u001b[38;5;250m 9\u001b[39m Grou~ 1     Mon   2019-06-10 21\u001b[38;5;246m:\u001b[39m00 Cana~ 1 - 0 \u001b[31mNA\u001b[39m    Came~      \u001b[4m1\u001b[24m\u001b[4m0\u001b[24m710 Stad~\n",
      "\u001b[38;5;250m10\u001b[39m Grou~ 1     Tue   2019-06-11 15\u001b[38;5;246m:\u001b[39m00 New ~ 0 - 1 \u001b[31mNA\u001b[39m    Neth~      \u001b[4m1\u001b[24m\u001b[4m0\u001b[24m654 Stad~\n",
      "\u001b[38;5;246m# ... with 45 more rows, and 2 more variables: Referee \u001b[3m\u001b[38;5;246m<chr>\u001b[38;5;246m\u001b[23m, Notes \u001b[3m\u001b[38;5;246m<chr>\u001b[38;5;246m\u001b[23m\u001b[39m\n"
     ]
    }
   ],
   "source": [
    "# Read in the data specifying column types\n",
    "wwc_raw <- read_csv('datasets/2019_WWCFIFA_summary.csv',\n",
    "                col_types = cols(\n",
    "                                Round = col_factor(),\n",
    "                                Date = col_date(format = \"%m/%d/%y\"),\n",
    "                                Venue = col_factor()\n",
    "                                  )\n",
    "                 )\n",
    "\n",
    "# Look at the summary and structure of the data\n",
    "glimpse(wwc_raw)\n",
    "summary(wwc_raw)\n",
    "\n",
    "# Print the dataset\n",
    "print(wwc_raw)"
   ]
  },
  {
   "cell_type": "markdown",
   "metadata": {
    "dc": {
     "key": "19"
    },
    "deletable": false,
    "editable": false,
    "run_control": {
     "frozen": true
    },
    "tags": [
     "context"
    ]
   },
   "source": [
    "## 3. Removing rows of NA\n",
    "<p>We have 55 observations (rows) of 13 variables (columns). Hmmm, we know there were 52 games - why the extra rows? Also <code>Round</code> and <code>Attendance</code> each have three <code>NA</code>, and <code>Date</code> and <code>Venue</code> each have four <code>NA</code>. It looks like we have a few things to fix.</p>\n",
    "<ul>\n",
    "<li>Rows of NA</li>\n",
    "<li>Missing data values</li>\n",
    "<li>Multiple values in one column (look at <code>Score</code> and <code>PKS</code>)</li>\n",
    "<li>Column headers are a mix of upper- and lowercase letters</li>\n",
    "</ul>\n",
    "<p>The last issue is more of a preference. Having all the column names in the same case will make typing easier.</p>\n",
    "<p>Great hustle on Bob's part for collecting the information we need, but he gets a yellow card for inserting the rows of <code>NA</code>.  Let's start cleaning the data by putting the column names in lowercase and removing the rows of <code>NA</code>.</p>"
   ]
  },
  {
   "cell_type": "code",
   "execution_count": 6,
   "metadata": {
    "dc": {
     "key": "19"
    },
    "tags": [
     "sample_code"
    ]
   },
   "outputs": [
    {
     "data": {
      "text/html": [
       "<ol class=list-inline>\n",
       "\t<li>52</li>\n",
       "\t<li>13</li>\n",
       "</ol>\n"
      ],
      "text/latex": [
       "\\begin{enumerate*}\n",
       "\\item 52\n",
       "\\item 13\n",
       "\\end{enumerate*}\n"
      ],
      "text/markdown": [
       "1. 52\n",
       "2. 13\n",
       "\n",
       "\n"
      ],
      "text/plain": [
       "[1] 52 13"
      ]
     },
     "metadata": {},
     "output_type": "display_data"
    },
    {
     "data": {
      "text/html": [
       "<table>\n",
       "<caption>A tibble: 10 x 13</caption>\n",
       "<thead>\n",
       "\t<tr><th scope=col>round</th><th scope=col>wk</th><th scope=col>day</th><th scope=col>date</th><th scope=col>time</th><th scope=col>home</th><th scope=col>score</th><th scope=col>pks</th><th scope=col>away</th><th scope=col>attendance</th><th scope=col>venue</th><th scope=col>referee</th><th scope=col>notes</th></tr>\n",
       "\t<tr><th scope=col>&lt;fct&gt;</th><th scope=col>&lt;chr&gt;</th><th scope=col>&lt;chr&gt;</th><th scope=col>&lt;date&gt;</th><th scope=col>&lt;time&gt;</th><th scope=col>&lt;chr&gt;</th><th scope=col>&lt;chr&gt;</th><th scope=col>&lt;chr&gt;</th><th scope=col>&lt;chr&gt;</th><th scope=col>&lt;dbl&gt;</th><th scope=col>&lt;fct&gt;</th><th scope=col>&lt;chr&gt;</th><th scope=col>&lt;chr&gt;</th></tr>\n",
       "</thead>\n",
       "<tbody>\n",
       "\t<tr><td>Group stage</td><td>1</td><td>Fri</td><td>2019-06-07</td><td>21:00:00</td><td>France     </td><td>4 - 0</td><td>NA</td><td>Korea Rep   </td><td>45261</td><td>Parc des Princes        </td><td>Claudia Umpierrez    </td><td>NA</td></tr>\n",
       "\t<tr><td>Group stage</td><td>1</td><td>Sat</td><td>2019-06-08</td><td>15:00:00</td><td>Germany    </td><td>1 - 0</td><td>NA</td><td>China PR    </td><td>15283</td><td>Roazhon Park            </td><td>Marie-Soleil Beaudoin</td><td>NA</td></tr>\n",
       "\t<tr><td>Group stage</td><td>1</td><td>Sat</td><td>2019-06-08</td><td>18:00:00</td><td>Spain      </td><td>3 - 1</td><td>NA</td><td>South Africa</td><td>12044</td><td>Stade Oceane            </td><td>Maria Carvajal       </td><td>NA</td></tr>\n",
       "\t<tr><td>Group stage</td><td>1</td><td>Sat</td><td>2019-06-08</td><td>21:00:00</td><td>Norway     </td><td>3 - 0</td><td>NA</td><td>Nigeria     </td><td>11058</td><td>Stade Auguste-Delaune II</td><td>Kate Jacewicz        </td><td>NA</td></tr>\n",
       "\t<tr><td>Group stage</td><td>1</td><td>Sun</td><td>2019-06-09</td><td>13:00:00</td><td>Australia  </td><td>1 - 2</td><td>NA</td><td>Italy       </td><td>15380</td><td>Stade du Hainaut        </td><td>Melissa Borjas       </td><td>NA</td></tr>\n",
       "\t<tr><td>Group stage</td><td>1</td><td>Sun</td><td>NA</td><td>15:30:00</td><td>Brazil     </td><td>3 - 0</td><td>NA</td><td>Jamaica     </td><td>17668</td><td>Stade des Alpes         </td><td>Riem Hussein         </td><td>NA</td></tr>\n",
       "\t<tr><td>Group stage</td><td>1</td><td>Sun</td><td>2019-06-09</td><td>18:00:00</td><td>England    </td><td>2 - 1</td><td>NA</td><td>Scotland    </td><td>13188</td><td>Stade de Nice           </td><td>Jana Adamkova        </td><td>NA</td></tr>\n",
       "\t<tr><td>Group stage</td><td>1</td><td>Mon</td><td>2019-06-10</td><td>18:00:00</td><td>Argentina  </td><td>0 - 0</td><td>NA</td><td>Japan       </td><td>25055</td><td>Parc des Princes        </td><td>Stephanie Frappart   </td><td>NA</td></tr>\n",
       "\t<tr><td>Group stage</td><td>1</td><td>Mon</td><td>2019-06-10</td><td>21:00:00</td><td>Canada     </td><td>1 - 0</td><td>NA</td><td>Cameroon    </td><td>10710</td><td>Stade de la Mosson      </td><td>Ri Hyang Ok          </td><td>NA</td></tr>\n",
       "\t<tr><td>Group stage</td><td>1</td><td>Tue</td><td>2019-06-11</td><td>15:00:00</td><td>New Zealand</td><td>0 - 1</td><td>NA</td><td>Netherlands </td><td>10654</td><td>Stade Oceane            </td><td>Edina Alves Batista  </td><td>NA</td></tr>\n",
       "</tbody>\n",
       "</table>\n"
      ],
      "text/latex": [
       "A tibble: 10 x 13\n",
       "\\begin{tabular}{r|lllllllllllll}\n",
       " round & wk & day & date & time & home & score & pks & away & attendance & venue & referee & notes\\\\\n",
       " <fct> & <chr> & <chr> & <date> & <time> & <chr> & <chr> & <chr> & <chr> & <dbl> & <fct> & <chr> & <chr>\\\\\n",
       "\\hline\n",
       "\t Group stage & 1 & Fri & 2019-06-07 & 21:00:00 & France      & 4 - 0 & NA & Korea Rep    & 45261 & Parc des Princes         & Claudia Umpierrez     & NA\\\\\n",
       "\t Group stage & 1 & Sat & 2019-06-08 & 15:00:00 & Germany     & 1 - 0 & NA & China PR     & 15283 & Roazhon Park             & Marie-Soleil Beaudoin & NA\\\\\n",
       "\t Group stage & 1 & Sat & 2019-06-08 & 18:00:00 & Spain       & 3 - 1 & NA & South Africa & 12044 & Stade Oceane             & Maria Carvajal        & NA\\\\\n",
       "\t Group stage & 1 & Sat & 2019-06-08 & 21:00:00 & Norway      & 3 - 0 & NA & Nigeria      & 11058 & Stade Auguste-Delaune II & Kate Jacewicz         & NA\\\\\n",
       "\t Group stage & 1 & Sun & 2019-06-09 & 13:00:00 & Australia   & 1 - 2 & NA & Italy        & 15380 & Stade du Hainaut         & Melissa Borjas        & NA\\\\\n",
       "\t Group stage & 1 & Sun & NA & 15:30:00 & Brazil      & 3 - 0 & NA & Jamaica      & 17668 & Stade des Alpes          & Riem Hussein          & NA\\\\\n",
       "\t Group stage & 1 & Sun & 2019-06-09 & 18:00:00 & England     & 2 - 1 & NA & Scotland     & 13188 & Stade de Nice            & Jana Adamkova         & NA\\\\\n",
       "\t Group stage & 1 & Mon & 2019-06-10 & 18:00:00 & Argentina   & 0 - 0 & NA & Japan        & 25055 & Parc des Princes         & Stephanie Frappart    & NA\\\\\n",
       "\t Group stage & 1 & Mon & 2019-06-10 & 21:00:00 & Canada      & 1 - 0 & NA & Cameroon     & 10710 & Stade de la Mosson       & Ri Hyang Ok           & NA\\\\\n",
       "\t Group stage & 1 & Tue & 2019-06-11 & 15:00:00 & New Zealand & 0 - 1 & NA & Netherlands  & 10654 & Stade Oceane             & Edina Alves Batista   & NA\\\\\n",
       "\\end{tabular}\n"
      ],
      "text/markdown": [
       "\n",
       "A tibble: 10 x 13\n",
       "\n",
       "| round &lt;fct&gt; | wk &lt;chr&gt; | day &lt;chr&gt; | date &lt;date&gt; | time &lt;time&gt; | home &lt;chr&gt; | score &lt;chr&gt; | pks &lt;chr&gt; | away &lt;chr&gt; | attendance &lt;dbl&gt; | venue &lt;fct&gt; | referee &lt;chr&gt; | notes &lt;chr&gt; |\n",
       "|---|---|---|---|---|---|---|---|---|---|---|---|---|\n",
       "| Group stage | 1 | Fri | 2019-06-07 | 21:00:00 | France      | 4 - 0 | NA | Korea Rep    | 45261 | Parc des Princes         | Claudia Umpierrez     | NA |\n",
       "| Group stage | 1 | Sat | 2019-06-08 | 15:00:00 | Germany     | 1 - 0 | NA | China PR     | 15283 | Roazhon Park             | Marie-Soleil Beaudoin | NA |\n",
       "| Group stage | 1 | Sat | 2019-06-08 | 18:00:00 | Spain       | 3 - 1 | NA | South Africa | 12044 | Stade Oceane             | Maria Carvajal        | NA |\n",
       "| Group stage | 1 | Sat | 2019-06-08 | 21:00:00 | Norway      | 3 - 0 | NA | Nigeria      | 11058 | Stade Auguste-Delaune II | Kate Jacewicz         | NA |\n",
       "| Group stage | 1 | Sun | 2019-06-09 | 13:00:00 | Australia   | 1 - 2 | NA | Italy        | 15380 | Stade du Hainaut         | Melissa Borjas        | NA |\n",
       "| Group stage | 1 | Sun | NA | 15:30:00 | Brazil      | 3 - 0 | NA | Jamaica      | 17668 | Stade des Alpes          | Riem Hussein          | NA |\n",
       "| Group stage | 1 | Sun | 2019-06-09 | 18:00:00 | England     | 2 - 1 | NA | Scotland     | 13188 | Stade de Nice            | Jana Adamkova         | NA |\n",
       "| Group stage | 1 | Mon | 2019-06-10 | 18:00:00 | Argentina   | 0 - 0 | NA | Japan        | 25055 | Parc des Princes         | Stephanie Frappart    | NA |\n",
       "| Group stage | 1 | Mon | 2019-06-10 | 21:00:00 | Canada      | 1 - 0 | NA | Cameroon     | 10710 | Stade de la Mosson       | Ri Hyang Ok           | NA |\n",
       "| Group stage | 1 | Tue | 2019-06-11 | 15:00:00 | New Zealand | 0 - 1 | NA | Netherlands  | 10654 | Stade Oceane             | Edina Alves Batista   | NA |\n",
       "\n"
      ],
      "text/plain": [
       "   round       wk day date       time     home        score pks away        \n",
       "1  Group stage 1  Fri 2019-06-07 21:00:00 France      4 - 0 NA  Korea Rep   \n",
       "2  Group stage 1  Sat 2019-06-08 15:00:00 Germany     1 - 0 NA  China PR    \n",
       "3  Group stage 1  Sat 2019-06-08 18:00:00 Spain       3 - 1 NA  South Africa\n",
       "4  Group stage 1  Sat 2019-06-08 21:00:00 Norway      3 - 0 NA  Nigeria     \n",
       "5  Group stage 1  Sun 2019-06-09 13:00:00 Australia   1 - 2 NA  Italy       \n",
       "6  Group stage 1  Sun <NA>       15:30:00 Brazil      3 - 0 NA  Jamaica     \n",
       "7  Group stage 1  Sun 2019-06-09 18:00:00 England     2 - 1 NA  Scotland    \n",
       "8  Group stage 1  Mon 2019-06-10 18:00:00 Argentina   0 - 0 NA  Japan       \n",
       "9  Group stage 1  Mon 2019-06-10 21:00:00 Canada      1 - 0 NA  Cameroon    \n",
       "10 Group stage 1  Tue 2019-06-11 15:00:00 New Zealand 0 - 1 NA  Netherlands \n",
       "   attendance venue                    referee               notes\n",
       "1  45261      Parc des Princes         Claudia Umpierrez     NA   \n",
       "2  15283      Roazhon Park             Marie-Soleil Beaudoin NA   \n",
       "3  12044      Stade Oceane             Maria Carvajal        NA   \n",
       "4  11058      Stade Auguste-Delaune II Kate Jacewicz         NA   \n",
       "5  15380      Stade du Hainaut         Melissa Borjas        NA   \n",
       "6  17668      Stade des Alpes          Riem Hussein          NA   \n",
       "7  13188      Stade de Nice            Jana Adamkova         NA   \n",
       "8  25055      Parc des Princes         Stephanie Frappart    NA   \n",
       "9  10710      Stade de la Mosson       Ri Hyang Ok           NA   \n",
       "10 10654      Stade Oceane             Edina Alves Batista   NA   "
      ]
     },
     "metadata": {},
     "output_type": "display_data"
    }
   ],
   "source": [
    "# load the package\n",
    "library(tidyr)\n",
    "\n",
    "# Remove rows of NA\n",
    "wwc_1  <- wwc_raw  %>% \n",
    " rename_all(tolower)  %>% \n",
    " filter(!is.na(round))\n",
    "\n",
    "# Get the dimensions and inspect the first 10 and last 10 rows\n",
    "dim(wwc_1)\n",
    "head(wwc_1, 10)"
   ]
  },
  {
   "cell_type": "markdown",
   "metadata": {
    "dc": {
     "key": "26"
    },
    "deletable": false,
    "editable": false,
    "run_control": {
     "frozen": true
    },
    "tags": [
     "context"
    ]
   },
   "source": [
    "## 4. Replacing NA\n",
    "<p>Excellent! We now have 52 rows. Each row corresponds to a match in the tournament. But, it looks like there are a couple <code>NA</code> still lurking about in <code>date</code> and <code>venue</code>. Using <code>colSums()</code> and <code>is.na()</code> we can check to see how many <code>NA</code> are in each column.</p>\n",
    "<p><img src=\"https://assets.datacamp.com/production/project_758/img/colSums_output.png\" alt=\"colSums output\"></p>\n",
    "<p><br></p>\n",
    "<p>We only have the one <code>NA</code> in <code>date</code> and one <code>NA</code> in <code>venue</code>. We would expect the <code>notes</code> column to have several <code>NA</code>, but what about <code>pks</code>? <code>pks</code> is the column for penalty kicks. It has 51 <code>NA</code>. A good guess would be that only one match ended in penalty kicks, and according to Bob, that is correct. We'll deal with the double data in <code>score</code> and <code>pks</code> shortly. Now we are going to clean <code>date</code> and <code>venue</code>.</p>"
   ]
  },
  {
   "cell_type": "code",
   "execution_count": 8,
   "metadata": {
    "collapsed": true,
    "dc": {
     "key": "26"
    },
    "tags": [
     "sample_code"
    ]
   },
   "outputs": [],
   "source": [
    "# Housekeeping\n",
    "wwc_2  <- wwc_1\n",
    "\n",
    "# Find, view, and replace NA in column date\n",
    "index_date  <- which(is.na(wwc_2$date))\n",
    "\n",
    "wwc_2$date[index_date]  <- \"2019-06-09\"\n",
    "\n",
    "# Find, view, and replace NA in column venue\n",
    "index_venue  <- which(is.na(wwc_2$venue))\n",
    "wwc_2$venue[index_venue]  <- \"Groupama Stadium\"\n",
    "\n",
    "# another approach\n",
    "# wwc_2 <- wwc_1 %>% \n",
    "    # mutate(date = replace_na(date, \"2019-06-09\"),\n",
    "            # venue = replace_na(venue, \"Groupama Stadium\"))"
   ]
  },
  {
   "cell_type": "markdown",
   "metadata": {
    "dc": {
     "key": "33"
    },
    "deletable": false,
    "editable": false,
    "run_control": {
     "frozen": true
    },
    "tags": [
     "context"
    ]
   },
   "source": [
    "## 5. separate() and replace_na()\n",
    "<p>All right! The data are looking good, but it is a good idea to get the two data points in <code>score</code> and two data points in <code>pks</code> into their own columns for future data sleuthing.</p>\n",
    "<p>For this task we're going to employ the functionality of <code>separate()</code>, <code>mutate()</code>, and <code>replace_na()</code>. Look back at the directions in Task 4 to see an example of how <code>mutate()</code> and <code>replace_na()</code> are used together. We'll use the pipe operator, <code>%</code>, to pipe the functions together for readability. </p>"
   ]
  },
  {
   "cell_type": "code",
   "execution_count": 10,
   "metadata": {
    "dc": {
     "key": "33"
    },
    "tags": [
     "sample_code"
    ]
   },
   "outputs": [
    {
     "data": {
      "text/html": [
       "<table>\n",
       "<caption>A tibble: 6 x 15</caption>\n",
       "<thead>\n",
       "\t<tr><th scope=col>round</th><th scope=col>wk</th><th scope=col>day</th><th scope=col>date</th><th scope=col>time</th><th scope=col>home</th><th scope=col>home_score</th><th scope=col>away_score</th><th scope=col>home_pks</th><th scope=col>away_pks</th><th scope=col>away</th><th scope=col>attendance</th><th scope=col>venue</th><th scope=col>referee</th><th scope=col>notes</th></tr>\n",
       "\t<tr><th scope=col>&lt;fct&gt;</th><th scope=col>&lt;chr&gt;</th><th scope=col>&lt;chr&gt;</th><th scope=col>&lt;date&gt;</th><th scope=col>&lt;time&gt;</th><th scope=col>&lt;chr&gt;</th><th scope=col>&lt;dbl&gt;</th><th scope=col>&lt;int&gt;</th><th scope=col>&lt;dbl&gt;</th><th scope=col>&lt;dbl&gt;</th><th scope=col>&lt;chr&gt;</th><th scope=col>&lt;dbl&gt;</th><th scope=col>&lt;fct&gt;</th><th scope=col>&lt;chr&gt;</th><th scope=col>&lt;chr&gt;</th></tr>\n",
       "</thead>\n",
       "<tbody>\n",
       "\t<tr><td>Group stage</td><td>1</td><td>Fri</td><td>2019-06-07</td><td>21:00:00</td><td>France   </td><td>4</td><td>0</td><td>0</td><td>0</td><td>Korea Rep   </td><td>45261</td><td>Parc des Princes        </td><td>Claudia Umpierrez    </td><td>NA</td></tr>\n",
       "\t<tr><td>Group stage</td><td>1</td><td>Sat</td><td>2019-06-08</td><td>15:00:00</td><td>Germany  </td><td>1</td><td>0</td><td>0</td><td>0</td><td>China PR    </td><td>15283</td><td>Roazhon Park            </td><td>Marie-Soleil Beaudoin</td><td>NA</td></tr>\n",
       "\t<tr><td>Group stage</td><td>1</td><td>Sat</td><td>2019-06-08</td><td>18:00:00</td><td>Spain    </td><td>3</td><td>1</td><td>0</td><td>0</td><td>South Africa</td><td>12044</td><td>Stade Oceane            </td><td>Maria Carvajal       </td><td>NA</td></tr>\n",
       "\t<tr><td>Group stage</td><td>1</td><td>Sat</td><td>2019-06-08</td><td>21:00:00</td><td>Norway   </td><td>3</td><td>0</td><td>0</td><td>0</td><td>Nigeria     </td><td>11058</td><td>Stade Auguste-Delaune II</td><td>Kate Jacewicz        </td><td>NA</td></tr>\n",
       "\t<tr><td>Group stage</td><td>1</td><td>Sun</td><td>2019-06-09</td><td>13:00:00</td><td>Australia</td><td>1</td><td>2</td><td>0</td><td>0</td><td>Italy       </td><td>15380</td><td>Stade du Hainaut        </td><td>Melissa Borjas       </td><td>NA</td></tr>\n",
       "\t<tr><td>Group stage</td><td>1</td><td>Sun</td><td>2019-06-09</td><td>15:30:00</td><td>Brazil   </td><td>3</td><td>0</td><td>0</td><td>0</td><td>Jamaica     </td><td>17668</td><td>Stade des Alpes         </td><td>Riem Hussein         </td><td>NA</td></tr>\n",
       "</tbody>\n",
       "</table>\n"
      ],
      "text/latex": [
       "A tibble: 6 x 15\n",
       "\\begin{tabular}{r|lllllllllllllll}\n",
       " round & wk & day & date & time & home & home\\_score & away\\_score & home\\_pks & away\\_pks & away & attendance & venue & referee & notes\\\\\n",
       " <fct> & <chr> & <chr> & <date> & <time> & <chr> & <dbl> & <int> & <dbl> & <dbl> & <chr> & <dbl> & <fct> & <chr> & <chr>\\\\\n",
       "\\hline\n",
       "\t Group stage & 1 & Fri & 2019-06-07 & 21:00:00 & France    & 4 & 0 & 0 & 0 & Korea Rep    & 45261 & Parc des Princes         & Claudia Umpierrez     & NA\\\\\n",
       "\t Group stage & 1 & Sat & 2019-06-08 & 15:00:00 & Germany   & 1 & 0 & 0 & 0 & China PR     & 15283 & Roazhon Park             & Marie-Soleil Beaudoin & NA\\\\\n",
       "\t Group stage & 1 & Sat & 2019-06-08 & 18:00:00 & Spain     & 3 & 1 & 0 & 0 & South Africa & 12044 & Stade Oceane             & Maria Carvajal        & NA\\\\\n",
       "\t Group stage & 1 & Sat & 2019-06-08 & 21:00:00 & Norway    & 3 & 0 & 0 & 0 & Nigeria      & 11058 & Stade Auguste-Delaune II & Kate Jacewicz         & NA\\\\\n",
       "\t Group stage & 1 & Sun & 2019-06-09 & 13:00:00 & Australia & 1 & 2 & 0 & 0 & Italy        & 15380 & Stade du Hainaut         & Melissa Borjas        & NA\\\\\n",
       "\t Group stage & 1 & Sun & 2019-06-09 & 15:30:00 & Brazil    & 3 & 0 & 0 & 0 & Jamaica      & 17668 & Stade des Alpes          & Riem Hussein          & NA\\\\\n",
       "\\end{tabular}\n"
      ],
      "text/markdown": [
       "\n",
       "A tibble: 6 x 15\n",
       "\n",
       "| round &lt;fct&gt; | wk &lt;chr&gt; | day &lt;chr&gt; | date &lt;date&gt; | time &lt;time&gt; | home &lt;chr&gt; | home_score &lt;dbl&gt; | away_score &lt;int&gt; | home_pks &lt;dbl&gt; | away_pks &lt;dbl&gt; | away &lt;chr&gt; | attendance &lt;dbl&gt; | venue &lt;fct&gt; | referee &lt;chr&gt; | notes &lt;chr&gt; |\n",
       "|---|---|---|---|---|---|---|---|---|---|---|---|---|---|---|\n",
       "| Group stage | 1 | Fri | 2019-06-07 | 21:00:00 | France    | 4 | 0 | 0 | 0 | Korea Rep    | 45261 | Parc des Princes         | Claudia Umpierrez     | NA |\n",
       "| Group stage | 1 | Sat | 2019-06-08 | 15:00:00 | Germany   | 1 | 0 | 0 | 0 | China PR     | 15283 | Roazhon Park             | Marie-Soleil Beaudoin | NA |\n",
       "| Group stage | 1 | Sat | 2019-06-08 | 18:00:00 | Spain     | 3 | 1 | 0 | 0 | South Africa | 12044 | Stade Oceane             | Maria Carvajal        | NA |\n",
       "| Group stage | 1 | Sat | 2019-06-08 | 21:00:00 | Norway    | 3 | 0 | 0 | 0 | Nigeria      | 11058 | Stade Auguste-Delaune II | Kate Jacewicz         | NA |\n",
       "| Group stage | 1 | Sun | 2019-06-09 | 13:00:00 | Australia | 1 | 2 | 0 | 0 | Italy        | 15380 | Stade du Hainaut         | Melissa Borjas        | NA |\n",
       "| Group stage | 1 | Sun | 2019-06-09 | 15:30:00 | Brazil    | 3 | 0 | 0 | 0 | Jamaica      | 17668 | Stade des Alpes          | Riem Hussein          | NA |\n",
       "\n"
      ],
      "text/plain": [
       "  round       wk day date       time     home      home_score away_score\n",
       "1 Group stage 1  Fri 2019-06-07 21:00:00 France    4          0         \n",
       "2 Group stage 1  Sat 2019-06-08 15:00:00 Germany   1          0         \n",
       "3 Group stage 1  Sat 2019-06-08 18:00:00 Spain     3          1         \n",
       "4 Group stage 1  Sat 2019-06-08 21:00:00 Norway    3          0         \n",
       "5 Group stage 1  Sun 2019-06-09 13:00:00 Australia 1          2         \n",
       "6 Group stage 1  Sun 2019-06-09 15:30:00 Brazil    3          0         \n",
       "  home_pks away_pks away         attendance venue                   \n",
       "1 0        0        Korea Rep    45261      Parc des Princes        \n",
       "2 0        0        China PR     15283      Roazhon Park            \n",
       "3 0        0        South Africa 12044      Stade Oceane            \n",
       "4 0        0        Nigeria      11058      Stade Auguste-Delaune II\n",
       "5 0        0        Italy        15380      Stade du Hainaut        \n",
       "6 0        0        Jamaica      17668      Stade des Alpes         \n",
       "  referee               notes\n",
       "1 Claudia Umpierrez     NA   \n",
       "2 Marie-Soleil Beaudoin NA   \n",
       "3 Maria Carvajal        NA   \n",
       "4 Kate Jacewicz         NA   \n",
       "5 Melissa Borjas        NA   \n",
       "6 Riem Hussein          NA   "
      ]
     },
     "metadata": {},
     "output_type": "display_data"
    }
   ],
   "source": [
    "# Separate columns and replace NA (you've got this!)\n",
    "wwc_3  <- wwc_2  %>% \n",
    "    separate(score, c(\"home_score\", \"away_score\"), sep=\"-\", convert=TRUE) %>% \n",
    "    separate(pks, c(\"home_pks\", \"away_pks\"), sep=\"-\", convert=TRUE) %>% \n",
    "    mutate(home_pks = replace_na(home_pks, 0),\n",
    "           away_pks = replace_na(away_pks, 0))\n",
    "\n",
    "# Print the data\n",
    "head(wwc_3)"
   ]
  },
  {
   "cell_type": "markdown",
   "metadata": {
    "dc": {
     "key": "40"
    },
    "deletable": false,
    "editable": false,
    "run_control": {
     "frozen": true
    },
    "tags": [
     "context"
    ]
   },
   "source": [
    "## 6. Plotting for outliers\n",
    "<p>We corrected the <code>NA</code> in the <code>date</code> and <code>venue</code> columns, and separated the <code>score</code> and <code>pks</code> columns to have one score per column. </p>\n",
    "<p>Now we can take a look at <code>attendance</code> and find the information the boss wants. Let's plot the data to see if there are any outliers. </p>"
   ]
  },
  {
   "cell_type": "code",
   "execution_count": 12,
   "metadata": {
    "dc": {
     "key": "40"
    },
    "tags": [
     "sample_code"
    ]
   },
   "outputs": [
    {
     "data": {
      "image/png": "[encoded data removed]",
      "text/plain": [
       "plot without title"
      ]
     },
     "metadata": {},
     "output_type": "display_data"
    }
   ],
   "source": [
    "# Housekeeping for plot size\n",
    "options(repr.plot.width=6, repr.plot.height=4)\n",
    "\n",
    "# Load package\n",
    "library(ggplot2)\n",
    "\n",
    "# Make a boxplot of attendance by venue and add the point data\n",
    "ggplot(wwc_3, aes(venue, attendance)) +\n",
    "  geom_boxplot() +\n",
    "  geom_jitter(color = \"red\", size = 0.5) +\n",
    "  theme(axis.text.x = element_text(angle = 90, hjust = 1))"
   ]
  },
  {
   "cell_type": "markdown",
   "metadata": {
    "dc": {
     "key": "47"
    },
    "deletable": false,
    "editable": false,
    "run_control": {
     "frozen": true
    },
    "tags": [
     "context"
    ]
   },
   "source": [
    "## 7. What to do with the outlier?\n",
    "<p>Whoa! What’s up with the attendance for Groupama Stadium? One data point is almost 600,000 (6e+05*) while all the other data points are less than 100,000. That does not seem right.  </p>\n",
    "<p>After chatting with Bob about the outlier and checking the match report, we learned that Bob mistakenly added an extra 0. We can fix that! Let's summarize the attendance by the venue, fix the outlier, and create a new summary table with the updated data.</p>\n",
    "<p><code>*</code> For fun, add <code>scale_y_continuous(labels = scales::comma)</code> as the last line of the call to <code>ggplot()</code> in Task 6 and see how the y-axis value labels change.</p>"
   ]
  },
  {
   "cell_type": "code",
   "execution_count": 14,
   "metadata": {
    "dc": {
     "key": "47"
    },
    "tags": [
     "sample_code"
    ]
   },
   "outputs": [
    {
     "name": "stderr",
     "output_type": "stream",
     "text": [
      "`summarise()` ungrouping output (override with `.groups` argument)\n"
     ]
    },
    {
     "data": {
      "text/html": [
       "<table>\n",
       "<caption>A tibble: 9 x 4</caption>\n",
       "<thead>\n",
       "\t<tr><th scope=col>venue</th><th scope=col>nb_of_games</th><th scope=col>min_attendance</th><th scope=col>max_attendance</th></tr>\n",
       "\t<tr><th scope=col>&lt;fct&gt;</th><th scope=col>&lt;int&gt;</th><th scope=col>&lt;dbl&gt;</th><th scope=col>&lt;dbl&gt;</th></tr>\n",
       "</thead>\n",
       "<tbody>\n",
       "\t<tr><td>Parc des Princes        </td><td>7</td><td>20011</td><td> 45595</td></tr>\n",
       "\t<tr><td>Roazhon Park            </td><td>7</td><td>13201</td><td> 28267</td></tr>\n",
       "\t<tr><td>Stade Oceane            </td><td>7</td><td>10654</td><td> 23965</td></tr>\n",
       "\t<tr><td>Stade Auguste-Delaune II</td><td>6</td><td>11058</td><td> 19633</td></tr>\n",
       "\t<tr><td>Stade du Hainaut        </td><td>6</td><td>15380</td><td> 22600</td></tr>\n",
       "\t<tr><td>Stade des Alpes         </td><td>5</td><td>11252</td><td> 17988</td></tr>\n",
       "\t<tr><td>Stade de Nice           </td><td>6</td><td> 9354</td><td> 34872</td></tr>\n",
       "\t<tr><td>Stade de la Mosson      </td><td>5</td><td> 8009</td><td> 17492</td></tr>\n",
       "\t<tr><td>Groupama Stadium        </td><td>3</td><td>48452</td><td>579000</td></tr>\n",
       "</tbody>\n",
       "</table>\n"
      ],
      "text/latex": [
       "A tibble: 9 x 4\n",
       "\\begin{tabular}{r|llll}\n",
       " venue & nb\\_of\\_games & min\\_attendance & max\\_attendance\\\\\n",
       " <fct> & <int> & <dbl> & <dbl>\\\\\n",
       "\\hline\n",
       "\t Parc des Princes         & 7 & 20011 &  45595\\\\\n",
       "\t Roazhon Park             & 7 & 13201 &  28267\\\\\n",
       "\t Stade Oceane             & 7 & 10654 &  23965\\\\\n",
       "\t Stade Auguste-Delaune II & 6 & 11058 &  19633\\\\\n",
       "\t Stade du Hainaut         & 6 & 15380 &  22600\\\\\n",
       "\t Stade des Alpes          & 5 & 11252 &  17988\\\\\n",
       "\t Stade de Nice            & 6 &  9354 &  34872\\\\\n",
       "\t Stade de la Mosson       & 5 &  8009 &  17492\\\\\n",
       "\t Groupama Stadium         & 3 & 48452 & 579000\\\\\n",
       "\\end{tabular}\n"
      ],
      "text/markdown": [
       "\n",
       "A tibble: 9 x 4\n",
       "\n",
       "| venue &lt;fct&gt; | nb_of_games &lt;int&gt; | min_attendance &lt;dbl&gt; | max_attendance &lt;dbl&gt; |\n",
       "|---|---|---|---|\n",
       "| Parc des Princes         | 7 | 20011 |  45595 |\n",
       "| Roazhon Park             | 7 | 13201 |  28267 |\n",
       "| Stade Oceane             | 7 | 10654 |  23965 |\n",
       "| Stade Auguste-Delaune II | 6 | 11058 |  19633 |\n",
       "| Stade du Hainaut         | 6 | 15380 |  22600 |\n",
       "| Stade des Alpes          | 5 | 11252 |  17988 |\n",
       "| Stade de Nice            | 6 |  9354 |  34872 |\n",
       "| Stade de la Mosson       | 5 |  8009 |  17492 |\n",
       "| Groupama Stadium         | 3 | 48452 | 579000 |\n",
       "\n"
      ],
      "text/plain": [
       "  venue                    nb_of_games min_attendance max_attendance\n",
       "1 Parc des Princes         7           20011           45595        \n",
       "2 Roazhon Park             7           13201           28267        \n",
       "3 Stade Oceane             7           10654           23965        \n",
       "4 Stade Auguste-Delaune II 6           11058           19633        \n",
       "5 Stade du Hainaut         6           15380           22600        \n",
       "6 Stade des Alpes          5           11252           17988        \n",
       "7 Stade de Nice            6            9354           34872        \n",
       "8 Stade de la Mosson       5            8009           17492        \n",
       "9 Groupama Stadium         3           48452          579000        "
      ]
     },
     "metadata": {},
     "output_type": "display_data"
    },
    {
     "name": "stderr",
     "output_type": "stream",
     "text": [
      "`summarise()` ungrouping output (override with `.groups` argument)\n"
     ]
    },
    {
     "data": {
      "text/html": [
       "<table>\n",
       "<caption>A tibble: 9 x 4</caption>\n",
       "<thead>\n",
       "\t<tr><th scope=col>venue</th><th scope=col>nb_of_games</th><th scope=col>min_attendance</th><th scope=col>max_attendance</th></tr>\n",
       "\t<tr><th scope=col>&lt;fct&gt;</th><th scope=col>&lt;int&gt;</th><th scope=col>&lt;dbl&gt;</th><th scope=col>&lt;dbl&gt;</th></tr>\n",
       "</thead>\n",
       "<tbody>\n",
       "\t<tr><td>Parc des Princes        </td><td>7</td><td>20011</td><td>45595</td></tr>\n",
       "\t<tr><td>Roazhon Park            </td><td>7</td><td>13201</td><td>28267</td></tr>\n",
       "\t<tr><td>Stade Oceane            </td><td>7</td><td>10654</td><td>23965</td></tr>\n",
       "\t<tr><td>Stade Auguste-Delaune II</td><td>6</td><td>11058</td><td>19633</td></tr>\n",
       "\t<tr><td>Stade du Hainaut        </td><td>6</td><td>15380</td><td>22600</td></tr>\n",
       "\t<tr><td>Stade des Alpes         </td><td>5</td><td>11252</td><td>17988</td></tr>\n",
       "\t<tr><td>Stade de Nice           </td><td>6</td><td> 9354</td><td>34872</td></tr>\n",
       "\t<tr><td>Stade de la Mosson      </td><td>5</td><td> 8009</td><td>17492</td></tr>\n",
       "\t<tr><td>Groupama Stadium        </td><td>3</td><td>48452</td><td>57900</td></tr>\n",
       "</tbody>\n",
       "</table>\n"
      ],
      "text/latex": [
       "A tibble: 9 x 4\n",
       "\\begin{tabular}{r|llll}\n",
       " venue & nb\\_of\\_games & min\\_attendance & max\\_attendance\\\\\n",
       " <fct> & <int> & <dbl> & <dbl>\\\\\n",
       "\\hline\n",
       "\t Parc des Princes         & 7 & 20011 & 45595\\\\\n",
       "\t Roazhon Park             & 7 & 13201 & 28267\\\\\n",
       "\t Stade Oceane             & 7 & 10654 & 23965\\\\\n",
       "\t Stade Auguste-Delaune II & 6 & 11058 & 19633\\\\\n",
       "\t Stade du Hainaut         & 6 & 15380 & 22600\\\\\n",
       "\t Stade des Alpes          & 5 & 11252 & 17988\\\\\n",
       "\t Stade de Nice            & 6 &  9354 & 34872\\\\\n",
       "\t Stade de la Mosson       & 5 &  8009 & 17492\\\\\n",
       "\t Groupama Stadium         & 3 & 48452 & 57900\\\\\n",
       "\\end{tabular}\n"
      ],
      "text/markdown": [
       "\n",
       "A tibble: 9 x 4\n",
       "\n",
       "| venue &lt;fct&gt; | nb_of_games &lt;int&gt; | min_attendance &lt;dbl&gt; | max_attendance &lt;dbl&gt; |\n",
       "|---|---|---|---|\n",
       "| Parc des Princes         | 7 | 20011 | 45595 |\n",
       "| Roazhon Park             | 7 | 13201 | 28267 |\n",
       "| Stade Oceane             | 7 | 10654 | 23965 |\n",
       "| Stade Auguste-Delaune II | 6 | 11058 | 19633 |\n",
       "| Stade du Hainaut         | 6 | 15380 | 22600 |\n",
       "| Stade des Alpes          | 5 | 11252 | 17988 |\n",
       "| Stade de Nice            | 6 |  9354 | 34872 |\n",
       "| Stade de la Mosson       | 5 |  8009 | 17492 |\n",
       "| Groupama Stadium         | 3 | 48452 | 57900 |\n",
       "\n"
      ],
      "text/plain": [
       "  venue                    nb_of_games min_attendance max_attendance\n",
       "1 Parc des Princes         7           20011          45595         \n",
       "2 Roazhon Park             7           13201          28267         \n",
       "3 Stade Oceane             7           10654          23965         \n",
       "4 Stade Auguste-Delaune II 6           11058          19633         \n",
       "5 Stade du Hainaut         6           15380          22600         \n",
       "6 Stade des Alpes          5           11252          17988         \n",
       "7 Stade de Nice            6            9354          34872         \n",
       "8 Stade de la Mosson       5            8009          17492         \n",
       "9 Groupama Stadium         3           48452          57900         "
      ]
     },
     "metadata": {},
     "output_type": "display_data"
    }
   ],
   "source": [
    "# Print the number of games played at each venue, and the min and max attendance at each venue\n",
    "wwc_3  %>% \n",
    "  group_by(venue)  %>% \n",
    "  summarize(nb_of_games = n(), \n",
    "           min_attendance = min(attendance), \n",
    "           max_attendance = max(attendance))\n",
    "\n",
    "# Correct the outlier\n",
    "wwc_4  <- wwc_3  %>% \n",
    "  mutate(attendance = replace(attendance, which(attendance == 579000), 57900))\n",
    "\n",
    "# Print the updated summary table\n",
    "wwc_venue_summary  <- wwc_4 %>% \n",
    "  group_by(venue)  %>% \n",
    "  summarize(nb_of_games = n(), \n",
    "           min_attendance = min(attendance), \n",
    "           max_attendance = max(attendance))\n",
    "\n",
    "# Print an updated summary table \n",
    "wwc_venue_summary"
   ]
  },
  {
   "cell_type": "markdown",
   "metadata": {
    "dc": {
     "key": "54"
    },
    "deletable": false,
    "editable": false,
    "run_control": {
     "frozen": true
    },
    "tags": [
     "context"
    ]
   },
   "source": [
    "## 8. A pretty boxplot\n",
    "<p>Let's make a boxplot of the attendance by venue again. The first outlier was extreme and might have masked other problems. </p>\n",
    "<p>This time we will clean up the plot by setting the theme, adding a title, a subtitle, x and y labels, and we will flip the axes to make it easier to read the venue names. We are also going to angle the x-axis text so the numbers will fit within the plot space. And to be fancy, we are going to reorder <code>venue</code> by  the attendance within the plot aesthetics so the venues display in descending order of mean attendance.  </p>"
   ]
  },
  {
   "cell_type": "code",
   "execution_count": 16,
   "metadata": {
    "dc": {
     "key": "54"
    },
    "tags": [
     "sample_code"
    ]
   },
   "outputs": [
    {
     "data": {
      "image/png": "[encoded data removed]",
      "text/plain": [
       "plot without title"
      ]
     },
     "metadata": {},
     "output_type": "display_data"
    }
   ],
   "source": [
    "# Housekeeping for plot size\n",
    "options(repr.plot.width=6, repr.plot.height=4)\n",
    "\n",
    "# Prettier boxplot of attendance data by venue\n",
    "wwc_4  %>% \n",
    "  ggplot(aes(x= forcats::fct_reorder(venue, attendance), y = attendance)) +\n",
    "  geom_boxplot() +\n",
    "  geom_jitter(color = \"red\", size = 0.5) +\n",
    "  coord_flip() +  \n",
    "  theme_minimal() +\n",
    "  theme(axis.text.x = element_text(angle = 45, , hjust = 1)) +\n",
    "  labs(title = \"Distribution of attendance by stadium\",\n",
    "       subtitle = \"2019 FIFA Women's World Cup\", x = \"Stadium\", y = \"Attendance\")"
   ]
  },
  {
   "cell_type": "markdown",
   "metadata": {
    "dc": {
     "key": "61"
    },
    "deletable": false,
    "editable": false,
    "run_control": {
     "frozen": true
    },
    "tags": [
     "context"
    ]
   },
   "source": [
    "## 9. A pretty line plot\n",
    "<p>Looks good!</p>\n",
    "<p>That outlier for Stade de Nice looks a little suspect, but we checked the match reports, and the attendance numbers are correct. The suspect match was <a href=\"https://www.fifa.com/womensworldcup/matches/match/300438220/#match-liveblog\">France vs. Norway</a> - the home nation favorite drew a large crowd wherever they played!</p>\n",
    "<p>Now that the data are clean, let's plot the attendance at each stadium over time so we can tell the boss which stadium had the highest attendance during the tournament. </p>"
   ]
  },
  {
   "cell_type": "code",
   "execution_count": 18,
   "metadata": {
    "dc": {
     "key": "61"
    },
    "tags": [
     "sample_code"
    ]
   },
   "outputs": [
    {
     "data": {
      "image/png": "[encoded data removed]",
      "text/plain": [
       "plot without title"
      ]
     },
     "metadata": {},
     "output_type": "display_data"
    }
   ],
   "source": [
    "# Housekeeping for plot size\n",
    "options(repr.plot.width=6, repr.plot.height=4)\n",
    "\n",
    "# Line plot of attendance over time\n",
    "wwc_4  %>% \n",
    "  ggplot(aes(date, attendance, color = venue)) +\n",
    "  geom_line() +\n",
    "  theme_minimal() +\n",
    "  theme(legend.position = \"bottom\",\n",
    "       legend.text = element_text(size = 8)) +\n",
    "  guides(col = guide_legend(nrow = 3)) +\n",
    "  labs(title = \"Stadium attendance during the tournament\",\n",
    "       subtitle = \"2019 FIFA Women's World Cup\",\n",
    "       x = \"Date\", \n",
    "       y = \"Attendance\",\n",
    "      color = \"\") "
   ]
  },
  {
   "cell_type": "markdown",
   "metadata": {
    "dc": {
     "key": "68"
    },
    "deletable": false,
    "editable": false,
    "run_control": {
     "frozen": true
    },
    "tags": [
     "context"
    ]
   },
   "source": [
    "## 10. Wrap up\n",
    "<p>Congratulations! You've made it to the end of the project.</p>\n",
    "<p>Great job! We have a couple of beautiful plots to give our boss. With a little more code, we can answer her questions: </p>\n",
    "<ol>\n",
    "<li>What match had the highest attendance?</li>\n",
    "<li>In what stadium was the match with the highest attendance played?</li>\n",
    "</ol>"
   ]
  },
  {
   "cell_type": "code",
   "execution_count": 20,
   "metadata": {
    "dc": {
     "key": "68"
    },
    "tags": [
     "sample_code"
    ]
   },
   "outputs": [
    {
     "data": {
      "text/html": [
       "<table>\n",
       "<caption>A tibble: 52 x 15</caption>\n",
       "<thead>\n",
       "\t<tr><th scope=col>round</th><th scope=col>wk</th><th scope=col>day</th><th scope=col>date</th><th scope=col>time</th><th scope=col>home</th><th scope=col>home_score</th><th scope=col>away_score</th><th scope=col>home_pks</th><th scope=col>away_pks</th><th scope=col>away</th><th scope=col>attendance</th><th scope=col>venue</th><th scope=col>referee</th><th scope=col>notes</th></tr>\n",
       "\t<tr><th scope=col>&lt;fct&gt;</th><th scope=col>&lt;chr&gt;</th><th scope=col>&lt;chr&gt;</th><th scope=col>&lt;date&gt;</th><th scope=col>&lt;time&gt;</th><th scope=col>&lt;chr&gt;</th><th scope=col>&lt;dbl&gt;</th><th scope=col>&lt;int&gt;</th><th scope=col>&lt;dbl&gt;</th><th scope=col>&lt;dbl&gt;</th><th scope=col>&lt;chr&gt;</th><th scope=col>&lt;dbl&gt;</th><th scope=col>&lt;fct&gt;</th><th scope=col>&lt;chr&gt;</th><th scope=col>&lt;chr&gt;</th></tr>\n",
       "</thead>\n",
       "<tbody>\n",
       "\t<tr><td>Final          </td><td>FIN </td><td>Sun</td><td>2019-07-07</td><td>17:00:00</td><td>USA         </td><td> 2</td><td>0</td><td>0</td><td>0</td><td>Netherlands </td><td>57900</td><td>Groupama Stadium        </td><td>Stephanie Frappart    </td><td>NA                                              </td></tr>\n",
       "\t<tr><td>Semifinals     </td><td>SMIF</td><td>Tue</td><td>2019-07-02</td><td>21:00:00</td><td>England     </td><td> 1</td><td>2</td><td>0</td><td>0</td><td>USA         </td><td>53512</td><td>Groupama Stadium        </td><td>Edina Alves Batista   </td><td>NA                                              </td></tr>\n",
       "\t<tr><td>Semifinals     </td><td>SMIF</td><td>Wed</td><td>2019-07-03</td><td>21:00:00</td><td>Netherlands </td><td> 1</td><td>0</td><td>0</td><td>0</td><td>Sweden      </td><td>48452</td><td>Groupama Stadium        </td><td>Marie-Soleil Beaudoin </td><td>Required Extra Time                             </td></tr>\n",
       "\t<tr><td>Quarterfinals  </td><td>QRTF</td><td>Fri</td><td>2019-06-28</td><td>21:00:00</td><td>France      </td><td> 1</td><td>2</td><td>0</td><td>0</td><td>USA         </td><td>45595</td><td>Parc des Princes        </td><td>Kateryna Monzul       </td><td>NA                                              </td></tr>\n",
       "\t<tr><td>Group stage    </td><td>2   </td><td>Sun</td><td>2019-06-16</td><td>18:00:00</td><td>USA         </td><td> 3</td><td>0</td><td>0</td><td>0</td><td>Chile       </td><td>45594</td><td>Parc des Princes        </td><td>Riem Hussein          </td><td>NA                                              </td></tr>\n",
       "\t<tr><td>Group stage    </td><td>1   </td><td>Fri</td><td>2019-06-07</td><td>21:00:00</td><td>France      </td><td> 4</td><td>0</td><td>0</td><td>0</td><td>Korea Rep   </td><td>45261</td><td>Parc des Princes        </td><td>Claudia Umpierrez     </td><td>NA                                              </td></tr>\n",
       "\t<tr><td>Round of 16    </td><td>R16 </td><td>Mon</td><td>2019-06-24</td><td>21:00:00</td><td>Sweden      </td><td> 1</td><td>0</td><td>0</td><td>0</td><td>Canada      </td><td>38078</td><td>Parc des Princes        </td><td>Kate Jacewicz         </td><td>NA                                              </td></tr>\n",
       "\t<tr><td>Group stage    </td><td>2   </td><td>Wed</td><td>2019-06-12</td><td>21:00:00</td><td>France      </td><td> 2</td><td>1</td><td>0</td><td>0</td><td>Norway      </td><td>34872</td><td>Stade de Nice           </td><td>Bibiana Steinhaus     </td><td>NA                                              </td></tr>\n",
       "\t<tr><td>Group stage    </td><td>3   </td><td>Mon</td><td>2019-06-17</td><td>21:00:00</td><td>Nigeria     </td><td> 0</td><td>1</td><td>0</td><td>0</td><td>France      </td><td>28267</td><td>Roazhon Park            </td><td>Melissa Borjas        </td><td>NA                                              </td></tr>\n",
       "\t<tr><td>Group stage    </td><td>3   </td><td>Wed</td><td>2019-06-19</td><td>21:00:00</td><td>Scotland    </td><td> 3</td><td>3</td><td>0</td><td>0</td><td>Argentina   </td><td>28205</td><td>Parc des Princes        </td><td>Ri Hyang Ok           </td><td>NA                                              </td></tr>\n",
       "\t<tr><td>Quarterfinals  </td><td>QRTF</td><td>Sat</td><td>2019-06-29</td><td>18:30:00</td><td>Germany     </td><td> 1</td><td>2</td><td>0</td><td>0</td><td>Sweden      </td><td>25301</td><td>Roazhon Park            </td><td>Stephanie Frappart    </td><td>NA                                              </td></tr>\n",
       "\t<tr><td>Group stage    </td><td>1   </td><td>Mon</td><td>2019-06-10</td><td>18:00:00</td><td>Argentina   </td><td> 0</td><td>0</td><td>0</td><td>0</td><td>Japan       </td><td>25055</td><td>Parc des Princes        </td><td>Stephanie Frappart    </td><td>NA                                              </td></tr>\n",
       "\t<tr><td>Round of 16    </td><td>R16 </td><td>Sun</td><td>2019-06-23</td><td>21:00:00</td><td>France      </td><td> 2</td><td>1</td><td>0</td><td>0</td><td>Brazil      </td><td>23965</td><td>Stade Oceane            </td><td>Marie-Soleil Beaudoin </td><td>Required Extra Time                             </td></tr>\n",
       "\t<tr><td>Quarterfinals  </td><td>QRTF</td><td>Sat</td><td>2019-06-29</td><td>15:00:00</td><td>Italy       </td><td> 0</td><td>2</td><td>0</td><td>0</td><td>Netherlands </td><td>22600</td><td>Stade du Hainaut        </td><td>Claudia Umpierrez     </td><td>NA                                              </td></tr>\n",
       "\t<tr><td>Group stage    </td><td>2   </td><td>Sat</td><td>2019-06-15</td><td>15:00:00</td><td>Netherlands </td><td> 3</td><td>1</td><td>0</td><td>0</td><td>Cameroon    </td><td>22423</td><td>Stade du Hainaut        </td><td>Casey Reibelt         </td><td>NA                                              </td></tr>\n",
       "\t<tr><td>Group stage    </td><td>3   </td><td>Thu</td><td>2019-06-20</td><td>21:00:00</td><td>Sweden      </td><td> 0</td><td>2</td><td>0</td><td>0</td><td>USA         </td><td>22418</td><td>Stade Oceane            </td><td>Anastasia Pustovoitova</td><td>NA                                              </td></tr>\n",
       "\t<tr><td>Group stage    </td><td>3   </td><td>Tue</td><td>2019-06-18</td><td>21:00:00</td><td>Italy       </td><td> 0</td><td>1</td><td>0</td><td>0</td><td>Brazil      </td><td>21669</td><td>Stade du Hainaut        </td><td>Lucila Venegas        </td><td>NA                                              </td></tr>\n",
       "\t<tr><td>Quarterfinals  </td><td>QRTF</td><td>Thu</td><td>2019-06-27</td><td>21:00:00</td><td>Norway      </td><td> 0</td><td>3</td><td>0</td><td>0</td><td>England     </td><td>21111</td><td>Stade Oceane            </td><td>Lucila Venegas        </td><td>NA                                              </td></tr>\n",
       "\t<tr><td>Round of 16    </td><td>R16 </td><td>Tue</td><td>2019-06-25</td><td>21:00:00</td><td>Netherlands </td><td> 2</td><td>1</td><td>0</td><td>0</td><td>Japan       </td><td>21076</td><td>Roazhon Park            </td><td>Melissa Borjas        </td><td>NA                                              </td></tr>\n",
       "\t<tr><td>Group stage    </td><td>2   </td><td>Wed</td><td>2019-06-12</td><td>18:00:00</td><td>Germany     </td><td> 1</td><td>0</td><td>0</td><td>0</td><td>Spain       </td><td>20761</td><td>Stade du Hainaut        </td><td>Kateryna Monzul       </td><td>NA                                              </td></tr>\n",
       "\t<tr><td>3rd-place match</td><td>3rd </td><td>Sat</td><td>2019-07-06</td><td>17:00:00</td><td>England     </td><td> 1</td><td>2</td><td>0</td><td>0</td><td>Sweden      </td><td>20316</td><td>Stade de Nice           </td><td>Anastasia Pustovoitova</td><td>NA                                              </td></tr>\n",
       "\t<tr><td>Group stage    </td><td>2   </td><td>Fri</td><td>2019-06-14</td><td>21:00:00</td><td>England     </td><td> 1</td><td>0</td><td>0</td><td>0</td><td>Argentina   </td><td>20294</td><td>Stade Oceane            </td><td>Qin Liang             </td><td>NA                                              </td></tr>\n",
       "\t<tr><td>Round of 16    </td><td>R16 </td><td>Sun</td><td>2019-06-23</td><td>17:30:00</td><td>England     </td><td> 3</td><td>0</td><td>0</td><td>0</td><td>Cameroon    </td><td>20148</td><td>Stade du Hainaut        </td><td>Qin Liang             </td><td>NA                                              </td></tr>\n",
       "\t<tr><td>Group stage    </td><td>2   </td><td>Thu</td><td>2019-06-13</td><td>21:00:00</td><td>South Africa</td><td> 0</td><td>1</td><td>0</td><td>0</td><td>China PR    </td><td>20011</td><td>Parc des Princes        </td><td>Katalin Kulcsar       </td><td>NA                                              </td></tr>\n",
       "\t<tr><td>Round of 16    </td><td>R16 </td><td>Mon</td><td>2019-06-24</td><td>18:00:00</td><td>Spain       </td><td> 1</td><td>2</td><td>0</td><td>0</td><td>USA         </td><td>19633</td><td>Stade Auguste-Delaune II</td><td>Katalin Kulcsar       </td><td>NA                                              </td></tr>\n",
       "\t<tr><td>Group stage    </td><td>3   </td><td>Thu</td><td>2019-06-20</td><td>18:00:00</td><td>Netherlands </td><td> 2</td><td>1</td><td>0</td><td>0</td><td>Canada      </td><td>19277</td><td>Stade Auguste-Delaune II</td><td>Stephanie Frappart    </td><td>NA                                              </td></tr>\n",
       "\t<tr><td>Group stage    </td><td>1   </td><td>Tue</td><td>2019-06-11</td><td>21:00:00</td><td>USA         </td><td>13</td><td>0</td><td>0</td><td>0</td><td>Thailand    </td><td>18591</td><td>Stade Auguste-Delaune II</td><td>Laura Fortunato       </td><td>NA                                              </td></tr>\n",
       "\t<tr><td>Round of 16    </td><td>R16 </td><td>Sat</td><td>2019-06-22</td><td>17:30:00</td><td>Germany     </td><td> 3</td><td>0</td><td>0</td><td>0</td><td>Nigeria     </td><td>17988</td><td>Stade des Alpes         </td><td>Yoshimi Yamashita     </td><td>NA                                              </td></tr>\n",
       "\t<tr><td>Group stage    </td><td>1   </td><td>Sun</td><td>2019-06-09</td><td>15:30:00</td><td>Brazil      </td><td> 3</td><td>0</td><td>0</td><td>0</td><td>Jamaica     </td><td>17668</td><td>Stade des Alpes         </td><td>Riem Hussein          </td><td>NA                                              </td></tr>\n",
       "\t<tr><td>Round of 16    </td><td>R16 </td><td>Tue</td><td>2019-06-25</td><td>18:00:00</td><td>Italy       </td><td> 2</td><td>0</td><td>0</td><td>0</td><td>China PR    </td><td>17492</td><td>Stade de la Mosson      </td><td>Edina Alves Batista   </td><td>NA                                              </td></tr>\n",
       "\t<tr><td>Group stage    </td><td>3   </td><td>Tue</td><td>2019-06-18</td><td>21:00:00</td><td>Jamaica     </td><td> 1</td><td>4</td><td>0</td><td>0</td><td>Australia   </td><td>17402</td><td>Stade des Alpes         </td><td>Katalin Kulcsar       </td><td>NA                                              </td></tr>\n",
       "\t<tr><td>Group stage    </td><td>2   </td><td>Thu</td><td>2019-06-13</td><td>18:00:00</td><td>Australia   </td><td> 3</td><td>2</td><td>0</td><td>0</td><td>Brazil      </td><td>17032</td><td>Stade de la Mosson      </td><td>Esther Staubli        </td><td>NA                                              </td></tr>\n",
       "\t<tr><td>Group stage    </td><td>1   </td><td>Tue</td><td>2019-06-11</td><td>18:00:00</td><td>Chile       </td><td> 0</td><td>2</td><td>0</td><td>0</td><td>Sweden      </td><td>15875</td><td>Roazhon Park            </td><td>Lucila Venegas        </td><td>NA                                              </td></tr>\n",
       "\t<tr><td>Group stage    </td><td>3   </td><td>Mon</td><td>2019-06-17</td><td>18:00:00</td><td>South Africa</td><td> 0</td><td>4</td><td>0</td><td>0</td><td>Germany     </td><td>15502</td><td>Stade de la Mosson      </td><td>Sandra Braz           </td><td>NA                                              </td></tr>\n",
       "\t<tr><td>Group stage    </td><td>1   </td><td>Sun</td><td>2019-06-09</td><td>13:00:00</td><td>Australia   </td><td> 1</td><td>2</td><td>0</td><td>0</td><td>Italy       </td><td>15380</td><td>Stade du Hainaut        </td><td>Melissa Borjas        </td><td>NA                                              </td></tr>\n",
       "\t<tr><td>Group stage    </td><td>1   </td><td>Sat</td><td>2019-06-08</td><td>15:00:00</td><td>Germany     </td><td> 1</td><td>0</td><td>0</td><td>0</td><td>China PR    </td><td>15283</td><td>Roazhon Park            </td><td>Marie-Soleil Beaudoin </td><td>NA                                              </td></tr>\n",
       "\t<tr><td>Group stage    </td><td>2   </td><td>Sat</td><td>2019-06-15</td><td>21:00:00</td><td>Canada      </td><td> 2</td><td>0</td><td>0</td><td>0</td><td>New Zealand </td><td>14856</td><td>Stade des Alpes         </td><td>Yoshimi Yamashita     </td><td>NA                                              </td></tr>\n",
       "\t<tr><td>Group stage    </td><td>3   </td><td>Wed</td><td>2019-06-19</td><td>21:00:00</td><td>Japan       </td><td> 0</td><td>2</td><td>0</td><td>0</td><td>England     </td><td>14319</td><td>Stade de Nice           </td><td>Claudia Umpierrez     </td><td>NA                                              </td></tr>\n",
       "\t<tr><td>Group stage    </td><td>3   </td><td>Thu</td><td>2019-06-20</td><td>21:00:00</td><td>Thailand    </td><td> 0</td><td>2</td><td>0</td><td>0</td><td>Chile       </td><td>13567</td><td>Roazhon Park            </td><td>Anna-Marie Keighley   </td><td>NA                                              </td></tr>\n",
       "\t<tr><td>Group stage    </td><td>2   </td><td>Fri</td><td>2019-06-14</td><td>15:00:00</td><td>Japan       </td><td> 2</td><td>1</td><td>0</td><td>0</td><td>Scotland    </td><td>13201</td><td>Roazhon Park            </td><td>Lidya Tafesse         </td><td>NA                                              </td></tr>\n",
       "\t<tr><td>Group stage    </td><td>1   </td><td>Sun</td><td>2019-06-09</td><td>18:00:00</td><td>England     </td><td> 2</td><td>1</td><td>0</td><td>0</td><td>Scotland    </td><td>13188</td><td>Stade de Nice           </td><td>Jana Adamkova         </td><td>NA                                              </td></tr>\n",
       "\t<tr><td>Group stage    </td><td>3   </td><td>Mon</td><td>2019-06-17</td><td>21:00:00</td><td>Korea Rep   </td><td> 1</td><td>2</td><td>0</td><td>0</td><td>Norway      </td><td>13034</td><td>Stade Auguste-Delaune II</td><td>Marie-Soleil Beaudoin </td><td>NA                                              </td></tr>\n",
       "\t<tr><td>Round of 16    </td><td>R16 </td><td>Sat</td><td>2019-06-22</td><td>21:00:00</td><td>Norway      </td><td> 1</td><td>1</td><td>4</td><td>1</td><td>Australia   </td><td>12229</td><td>Stade de Nice           </td><td>Riem Hussein          </td><td>Norway won on penalty kicks following extra time</td></tr>\n",
       "\t<tr><td>Group stage    </td><td>1   </td><td>Sat</td><td>2019-06-08</td><td>18:00:00</td><td>Spain       </td><td> 3</td><td>1</td><td>0</td><td>0</td><td>South Africa</td><td>12044</td><td>Stade Oceane            </td><td>Maria Carvajal        </td><td>NA                                              </td></tr>\n",
       "\t<tr><td>Group stage    </td><td>2   </td><td>Fri</td><td>2019-06-14</td><td>18:00:00</td><td>Jamaica     </td><td> 0</td><td>5</td><td>0</td><td>0</td><td>Italy       </td><td>12016</td><td>Stade Auguste-Delaune II</td><td>Anna-Marie Keighley   </td><td>NA                                              </td></tr>\n",
       "\t<tr><td>Group stage    </td><td>3   </td><td>Mon</td><td>2019-06-17</td><td>18:00:00</td><td>China PR    </td><td> 0</td><td>0</td><td>0</td><td>0</td><td>Spain       </td><td>11814</td><td>Stade Oceane            </td><td>Edina Alves Batista   </td><td>NA                                              </td></tr>\n",
       "\t<tr><td>Group stage    </td><td>2   </td><td>Wed</td><td>2019-06-12</td><td>15:00:00</td><td>Nigeria     </td><td> 2</td><td>0</td><td>0</td><td>0</td><td>Korea Rep   </td><td>11252</td><td>Stade des Alpes         </td><td>Anastasia Pustovoitova</td><td>NA                                              </td></tr>\n",
       "\t<tr><td>Group stage    </td><td>1   </td><td>Sat</td><td>2019-06-08</td><td>21:00:00</td><td>Norway      </td><td> 3</td><td>0</td><td>0</td><td>0</td><td>Nigeria     </td><td>11058</td><td>Stade Auguste-Delaune II</td><td>Kate Jacewicz         </td><td>NA                                              </td></tr>\n",
       "\t<tr><td>Group stage    </td><td>1   </td><td>Mon</td><td>2019-06-10</td><td>21:00:00</td><td>Canada      </td><td> 1</td><td>0</td><td>0</td><td>0</td><td>Cameroon    </td><td>10710</td><td>Stade de la Mosson      </td><td>Ri Hyang Ok           </td><td>NA                                              </td></tr>\n",
       "\t<tr><td>Group stage    </td><td>1   </td><td>Tue</td><td>2019-06-11</td><td>15:00:00</td><td>New Zealand </td><td> 0</td><td>1</td><td>0</td><td>0</td><td>Netherlands </td><td>10654</td><td>Stade Oceane            </td><td>Edina Alves Batista   </td><td>NA                                              </td></tr>\n",
       "\t<tr><td>Group stage    </td><td>2   </td><td>Sun</td><td>2019-06-16</td><td>15:00:00</td><td>Sweden      </td><td> 5</td><td>1</td><td>0</td><td>0</td><td>Thailand    </td><td> 9354</td><td>Stade de Nice           </td><td>Salma Mukansanga      </td><td>NA                                              </td></tr>\n",
       "\t<tr><td>Group stage    </td><td>3   </td><td>Thu</td><td>2019-06-20</td><td>18:00:00</td><td>Cameroon    </td><td> 2</td><td>1</td><td>0</td><td>0</td><td>New Zealand </td><td> 8009</td><td>Stade de la Mosson      </td><td>Kateryna Monzul       </td><td>NA                                              </td></tr>\n",
       "</tbody>\n",
       "</table>\n"
      ],
      "text/latex": [
       "A tibble: 52 x 15\n",
       "\\begin{tabular}{r|lllllllllllllll}\n",
       " round & wk & day & date & time & home & home\\_score & away\\_score & home\\_pks & away\\_pks & away & attendance & venue & referee & notes\\\\\n",
       " <fct> & <chr> & <chr> & <date> & <time> & <chr> & <dbl> & <int> & <dbl> & <dbl> & <chr> & <dbl> & <fct> & <chr> & <chr>\\\\\n",
       "\\hline\n",
       "\t Final           & FIN  & Sun & 2019-07-07 & 17:00:00 & USA          &  2 & 0 & 0 & 0 & Netherlands  & 57900 & Groupama Stadium         & Stephanie Frappart     & NA                                              \\\\\n",
       "\t Semifinals      & SMIF & Tue & 2019-07-02 & 21:00:00 & England      &  1 & 2 & 0 & 0 & USA          & 53512 & Groupama Stadium         & Edina Alves Batista    & NA                                              \\\\\n",
       "\t Semifinals      & SMIF & Wed & 2019-07-03 & 21:00:00 & Netherlands  &  1 & 0 & 0 & 0 & Sweden       & 48452 & Groupama Stadium         & Marie-Soleil Beaudoin  & Required Extra Time                             \\\\\n",
       "\t Quarterfinals   & QRTF & Fri & 2019-06-28 & 21:00:00 & France       &  1 & 2 & 0 & 0 & USA          & 45595 & Parc des Princes         & Kateryna Monzul        & NA                                              \\\\\n",
       "\t Group stage     & 2    & Sun & 2019-06-16 & 18:00:00 & USA          &  3 & 0 & 0 & 0 & Chile        & 45594 & Parc des Princes         & Riem Hussein           & NA                                              \\\\\n",
       "\t Group stage     & 1    & Fri & 2019-06-07 & 21:00:00 & France       &  4 & 0 & 0 & 0 & Korea Rep    & 45261 & Parc des Princes         & Claudia Umpierrez      & NA                                              \\\\\n",
       "\t Round of 16     & R16  & Mon & 2019-06-24 & 21:00:00 & Sweden       &  1 & 0 & 0 & 0 & Canada       & 38078 & Parc des Princes         & Kate Jacewicz          & NA                                              \\\\\n",
       "\t Group stage     & 2    & Wed & 2019-06-12 & 21:00:00 & France       &  2 & 1 & 0 & 0 & Norway       & 34872 & Stade de Nice            & Bibiana Steinhaus      & NA                                              \\\\\n",
       "\t Group stage     & 3    & Mon & 2019-06-17 & 21:00:00 & Nigeria      &  0 & 1 & 0 & 0 & France       & 28267 & Roazhon Park             & Melissa Borjas         & NA                                              \\\\\n",
       "\t Group stage     & 3    & Wed & 2019-06-19 & 21:00:00 & Scotland     &  3 & 3 & 0 & 0 & Argentina    & 28205 & Parc des Princes         & Ri Hyang Ok            & NA                                              \\\\\n",
       "\t Quarterfinals   & QRTF & Sat & 2019-06-29 & 18:30:00 & Germany      &  1 & 2 & 0 & 0 & Sweden       & 25301 & Roazhon Park             & Stephanie Frappart     & NA                                              \\\\\n",
       "\t Group stage     & 1    & Mon & 2019-06-10 & 18:00:00 & Argentina    &  0 & 0 & 0 & 0 & Japan        & 25055 & Parc des Princes         & Stephanie Frappart     & NA                                              \\\\\n",
       "\t Round of 16     & R16  & Sun & 2019-06-23 & 21:00:00 & France       &  2 & 1 & 0 & 0 & Brazil       & 23965 & Stade Oceane             & Marie-Soleil Beaudoin  & Required Extra Time                             \\\\\n",
       "\t Quarterfinals   & QRTF & Sat & 2019-06-29 & 15:00:00 & Italy        &  0 & 2 & 0 & 0 & Netherlands  & 22600 & Stade du Hainaut         & Claudia Umpierrez      & NA                                              \\\\\n",
       "\t Group stage     & 2    & Sat & 2019-06-15 & 15:00:00 & Netherlands  &  3 & 1 & 0 & 0 & Cameroon     & 22423 & Stade du Hainaut         & Casey Reibelt          & NA                                              \\\\\n",
       "\t Group stage     & 3    & Thu & 2019-06-20 & 21:00:00 & Sweden       &  0 & 2 & 0 & 0 & USA          & 22418 & Stade Oceane             & Anastasia Pustovoitova & NA                                              \\\\\n",
       "\t Group stage     & 3    & Tue & 2019-06-18 & 21:00:00 & Italy        &  0 & 1 & 0 & 0 & Brazil       & 21669 & Stade du Hainaut         & Lucila Venegas         & NA                                              \\\\\n",
       "\t Quarterfinals   & QRTF & Thu & 2019-06-27 & 21:00:00 & Norway       &  0 & 3 & 0 & 0 & England      & 21111 & Stade Oceane             & Lucila Venegas         & NA                                              \\\\\n",
       "\t Round of 16     & R16  & Tue & 2019-06-25 & 21:00:00 & Netherlands  &  2 & 1 & 0 & 0 & Japan        & 21076 & Roazhon Park             & Melissa Borjas         & NA                                              \\\\\n",
       "\t Group stage     & 2    & Wed & 2019-06-12 & 18:00:00 & Germany      &  1 & 0 & 0 & 0 & Spain        & 20761 & Stade du Hainaut         & Kateryna Monzul        & NA                                              \\\\\n",
       "\t 3rd-place match & 3rd  & Sat & 2019-07-06 & 17:00:00 & England      &  1 & 2 & 0 & 0 & Sweden       & 20316 & Stade de Nice            & Anastasia Pustovoitova & NA                                              \\\\\n",
       "\t Group stage     & 2    & Fri & 2019-06-14 & 21:00:00 & England      &  1 & 0 & 0 & 0 & Argentina    & 20294 & Stade Oceane             & Qin Liang              & NA                                              \\\\\n",
       "\t Round of 16     & R16  & Sun & 2019-06-23 & 17:30:00 & England      &  3 & 0 & 0 & 0 & Cameroon     & 20148 & Stade du Hainaut         & Qin Liang              & NA                                              \\\\\n",
       "\t Group stage     & 2    & Thu & 2019-06-13 & 21:00:00 & South Africa &  0 & 1 & 0 & 0 & China PR     & 20011 & Parc des Princes         & Katalin Kulcsar        & NA                                              \\\\\n",
       "\t Round of 16     & R16  & Mon & 2019-06-24 & 18:00:00 & Spain        &  1 & 2 & 0 & 0 & USA          & 19633 & Stade Auguste-Delaune II & Katalin Kulcsar        & NA                                              \\\\\n",
       "\t Group stage     & 3    & Thu & 2019-06-20 & 18:00:00 & Netherlands  &  2 & 1 & 0 & 0 & Canada       & 19277 & Stade Auguste-Delaune II & Stephanie Frappart     & NA                                              \\\\\n",
       "\t Group stage     & 1    & Tue & 2019-06-11 & 21:00:00 & USA          & 13 & 0 & 0 & 0 & Thailand     & 18591 & Stade Auguste-Delaune II & Laura Fortunato        & NA                                              \\\\\n",
       "\t Round of 16     & R16  & Sat & 2019-06-22 & 17:30:00 & Germany      &  3 & 0 & 0 & 0 & Nigeria      & 17988 & Stade des Alpes          & Yoshimi Yamashita      & NA                                              \\\\\n",
       "\t Group stage     & 1    & Sun & 2019-06-09 & 15:30:00 & Brazil       &  3 & 0 & 0 & 0 & Jamaica      & 17668 & Stade des Alpes          & Riem Hussein           & NA                                              \\\\\n",
       "\t Round of 16     & R16  & Tue & 2019-06-25 & 18:00:00 & Italy        &  2 & 0 & 0 & 0 & China PR     & 17492 & Stade de la Mosson       & Edina Alves Batista    & NA                                              \\\\\n",
       "\t Group stage     & 3    & Tue & 2019-06-18 & 21:00:00 & Jamaica      &  1 & 4 & 0 & 0 & Australia    & 17402 & Stade des Alpes          & Katalin Kulcsar        & NA                                              \\\\\n",
       "\t Group stage     & 2    & Thu & 2019-06-13 & 18:00:00 & Australia    &  3 & 2 & 0 & 0 & Brazil       & 17032 & Stade de la Mosson       & Esther Staubli         & NA                                              \\\\\n",
       "\t Group stage     & 1    & Tue & 2019-06-11 & 18:00:00 & Chile        &  0 & 2 & 0 & 0 & Sweden       & 15875 & Roazhon Park             & Lucila Venegas         & NA                                              \\\\\n",
       "\t Group stage     & 3    & Mon & 2019-06-17 & 18:00:00 & South Africa &  0 & 4 & 0 & 0 & Germany      & 15502 & Stade de la Mosson       & Sandra Braz            & NA                                              \\\\\n",
       "\t Group stage     & 1    & Sun & 2019-06-09 & 13:00:00 & Australia    &  1 & 2 & 0 & 0 & Italy        & 15380 & Stade du Hainaut         & Melissa Borjas         & NA                                              \\\\\n",
       "\t Group stage     & 1    & Sat & 2019-06-08 & 15:00:00 & Germany      &  1 & 0 & 0 & 0 & China PR     & 15283 & Roazhon Park             & Marie-Soleil Beaudoin  & NA                                              \\\\\n",
       "\t Group stage     & 2    & Sat & 2019-06-15 & 21:00:00 & Canada       &  2 & 0 & 0 & 0 & New Zealand  & 14856 & Stade des Alpes          & Yoshimi Yamashita      & NA                                              \\\\\n",
       "\t Group stage     & 3    & Wed & 2019-06-19 & 21:00:00 & Japan        &  0 & 2 & 0 & 0 & England      & 14319 & Stade de Nice            & Claudia Umpierrez      & NA                                              \\\\\n",
       "\t Group stage     & 3    & Thu & 2019-06-20 & 21:00:00 & Thailand     &  0 & 2 & 0 & 0 & Chile        & 13567 & Roazhon Park             & Anna-Marie Keighley    & NA                                              \\\\\n",
       "\t Group stage     & 2    & Fri & 2019-06-14 & 15:00:00 & Japan        &  2 & 1 & 0 & 0 & Scotland     & 13201 & Roazhon Park             & Lidya Tafesse          & NA                                              \\\\\n",
       "\t Group stage     & 1    & Sun & 2019-06-09 & 18:00:00 & England      &  2 & 1 & 0 & 0 & Scotland     & 13188 & Stade de Nice            & Jana Adamkova          & NA                                              \\\\\n",
       "\t Group stage     & 3    & Mon & 2019-06-17 & 21:00:00 & Korea Rep    &  1 & 2 & 0 & 0 & Norway       & 13034 & Stade Auguste-Delaune II & Marie-Soleil Beaudoin  & NA                                              \\\\\n",
       "\t Round of 16     & R16  & Sat & 2019-06-22 & 21:00:00 & Norway       &  1 & 1 & 4 & 1 & Australia    & 12229 & Stade de Nice            & Riem Hussein           & Norway won on penalty kicks following extra time\\\\\n",
       "\t Group stage     & 1    & Sat & 2019-06-08 & 18:00:00 & Spain        &  3 & 1 & 0 & 0 & South Africa & 12044 & Stade Oceane             & Maria Carvajal         & NA                                              \\\\\n",
       "\t Group stage     & 2    & Fri & 2019-06-14 & 18:00:00 & Jamaica      &  0 & 5 & 0 & 0 & Italy        & 12016 & Stade Auguste-Delaune II & Anna-Marie Keighley    & NA                                              \\\\\n",
       "\t Group stage     & 3    & Mon & 2019-06-17 & 18:00:00 & China PR     &  0 & 0 & 0 & 0 & Spain        & 11814 & Stade Oceane             & Edina Alves Batista    & NA                                              \\\\\n",
       "\t Group stage     & 2    & Wed & 2019-06-12 & 15:00:00 & Nigeria      &  2 & 0 & 0 & 0 & Korea Rep    & 11252 & Stade des Alpes          & Anastasia Pustovoitova & NA                                              \\\\\n",
       "\t Group stage     & 1    & Sat & 2019-06-08 & 21:00:00 & Norway       &  3 & 0 & 0 & 0 & Nigeria      & 11058 & Stade Auguste-Delaune II & Kate Jacewicz          & NA                                              \\\\\n",
       "\t Group stage     & 1    & Mon & 2019-06-10 & 21:00:00 & Canada       &  1 & 0 & 0 & 0 & Cameroon     & 10710 & Stade de la Mosson       & Ri Hyang Ok            & NA                                              \\\\\n",
       "\t Group stage     & 1    & Tue & 2019-06-11 & 15:00:00 & New Zealand  &  0 & 1 & 0 & 0 & Netherlands  & 10654 & Stade Oceane             & Edina Alves Batista    & NA                                              \\\\\n",
       "\t Group stage     & 2    & Sun & 2019-06-16 & 15:00:00 & Sweden       &  5 & 1 & 0 & 0 & Thailand     &  9354 & Stade de Nice            & Salma Mukansanga       & NA                                              \\\\\n",
       "\t Group stage     & 3    & Thu & 2019-06-20 & 18:00:00 & Cameroon     &  2 & 1 & 0 & 0 & New Zealand  &  8009 & Stade de la Mosson       & Kateryna Monzul        & NA                                              \\\\\n",
       "\\end{tabular}\n"
      ],
      "text/markdown": [
       "\n",
       "A tibble: 52 x 15\n",
       "\n",
       "| round &lt;fct&gt; | wk &lt;chr&gt; | day &lt;chr&gt; | date &lt;date&gt; | time &lt;time&gt; | home &lt;chr&gt; | home_score &lt;dbl&gt; | away_score &lt;int&gt; | home_pks &lt;dbl&gt; | away_pks &lt;dbl&gt; | away &lt;chr&gt; | attendance &lt;dbl&gt; | venue &lt;fct&gt; | referee &lt;chr&gt; | notes &lt;chr&gt; |\n",
       "|---|---|---|---|---|---|---|---|---|---|---|---|---|---|---|\n",
       "| Final           | FIN  | Sun | 2019-07-07 | 17:00:00 | USA          |  2 | 0 | 0 | 0 | Netherlands  | 57900 | Groupama Stadium         | Stephanie Frappart     | NA                                               |\n",
       "| Semifinals      | SMIF | Tue | 2019-07-02 | 21:00:00 | England      |  1 | 2 | 0 | 0 | USA          | 53512 | Groupama Stadium         | Edina Alves Batista    | NA                                               |\n",
       "| Semifinals      | SMIF | Wed | 2019-07-03 | 21:00:00 | Netherlands  |  1 | 0 | 0 | 0 | Sweden       | 48452 | Groupama Stadium         | Marie-Soleil Beaudoin  | Required Extra Time                              |\n",
       "| Quarterfinals   | QRTF | Fri | 2019-06-28 | 21:00:00 | France       |  1 | 2 | 0 | 0 | USA          | 45595 | Parc des Princes         | Kateryna Monzul        | NA                                               |\n",
       "| Group stage     | 2    | Sun | 2019-06-16 | 18:00:00 | USA          |  3 | 0 | 0 | 0 | Chile        | 45594 | Parc des Princes         | Riem Hussein           | NA                                               |\n",
       "| Group stage     | 1    | Fri | 2019-06-07 | 21:00:00 | France       |  4 | 0 | 0 | 0 | Korea Rep    | 45261 | Parc des Princes         | Claudia Umpierrez      | NA                                               |\n",
       "| Round of 16     | R16  | Mon | 2019-06-24 | 21:00:00 | Sweden       |  1 | 0 | 0 | 0 | Canada       | 38078 | Parc des Princes         | Kate Jacewicz          | NA                                               |\n",
       "| Group stage     | 2    | Wed | 2019-06-12 | 21:00:00 | France       |  2 | 1 | 0 | 0 | Norway       | 34872 | Stade de Nice            | Bibiana Steinhaus      | NA                                               |\n",
       "| Group stage     | 3    | Mon | 2019-06-17 | 21:00:00 | Nigeria      |  0 | 1 | 0 | 0 | France       | 28267 | Roazhon Park             | Melissa Borjas         | NA                                               |\n",
       "| Group stage     | 3    | Wed | 2019-06-19 | 21:00:00 | Scotland     |  3 | 3 | 0 | 0 | Argentina    | 28205 | Parc des Princes         | Ri Hyang Ok            | NA                                               |\n",
       "| Quarterfinals   | QRTF | Sat | 2019-06-29 | 18:30:00 | Germany      |  1 | 2 | 0 | 0 | Sweden       | 25301 | Roazhon Park             | Stephanie Frappart     | NA                                               |\n",
       "| Group stage     | 1    | Mon | 2019-06-10 | 18:00:00 | Argentina    |  0 | 0 | 0 | 0 | Japan        | 25055 | Parc des Princes         | Stephanie Frappart     | NA                                               |\n",
       "| Round of 16     | R16  | Sun | 2019-06-23 | 21:00:00 | France       |  2 | 1 | 0 | 0 | Brazil       | 23965 | Stade Oceane             | Marie-Soleil Beaudoin  | Required Extra Time                              |\n",
       "| Quarterfinals   | QRTF | Sat | 2019-06-29 | 15:00:00 | Italy        |  0 | 2 | 0 | 0 | Netherlands  | 22600 | Stade du Hainaut         | Claudia Umpierrez      | NA                                               |\n",
       "| Group stage     | 2    | Sat | 2019-06-15 | 15:00:00 | Netherlands  |  3 | 1 | 0 | 0 | Cameroon     | 22423 | Stade du Hainaut         | Casey Reibelt          | NA                                               |\n",
       "| Group stage     | 3    | Thu | 2019-06-20 | 21:00:00 | Sweden       |  0 | 2 | 0 | 0 | USA          | 22418 | Stade Oceane             | Anastasia Pustovoitova | NA                                               |\n",
       "| Group stage     | 3    | Tue | 2019-06-18 | 21:00:00 | Italy        |  0 | 1 | 0 | 0 | Brazil       | 21669 | Stade du Hainaut         | Lucila Venegas         | NA                                               |\n",
       "| Quarterfinals   | QRTF | Thu | 2019-06-27 | 21:00:00 | Norway       |  0 | 3 | 0 | 0 | England      | 21111 | Stade Oceane             | Lucila Venegas         | NA                                               |\n",
       "| Round of 16     | R16  | Tue | 2019-06-25 | 21:00:00 | Netherlands  |  2 | 1 | 0 | 0 | Japan        | 21076 | Roazhon Park             | Melissa Borjas         | NA                                               |\n",
       "| Group stage     | 2    | Wed | 2019-06-12 | 18:00:00 | Germany      |  1 | 0 | 0 | 0 | Spain        | 20761 | Stade du Hainaut         | Kateryna Monzul        | NA                                               |\n",
       "| 3rd-place match | 3rd  | Sat | 2019-07-06 | 17:00:00 | England      |  1 | 2 | 0 | 0 | Sweden       | 20316 | Stade de Nice            | Anastasia Pustovoitova | NA                                               |\n",
       "| Group stage     | 2    | Fri | 2019-06-14 | 21:00:00 | England      |  1 | 0 | 0 | 0 | Argentina    | 20294 | Stade Oceane             | Qin Liang              | NA                                               |\n",
       "| Round of 16     | R16  | Sun | 2019-06-23 | 17:30:00 | England      |  3 | 0 | 0 | 0 | Cameroon     | 20148 | Stade du Hainaut         | Qin Liang              | NA                                               |\n",
       "| Group stage     | 2    | Thu | 2019-06-13 | 21:00:00 | South Africa |  0 | 1 | 0 | 0 | China PR     | 20011 | Parc des Princes         | Katalin Kulcsar        | NA                                               |\n",
       "| Round of 16     | R16  | Mon | 2019-06-24 | 18:00:00 | Spain        |  1 | 2 | 0 | 0 | USA          | 19633 | Stade Auguste-Delaune II | Katalin Kulcsar        | NA                                               |\n",
       "| Group stage     | 3    | Thu | 2019-06-20 | 18:00:00 | Netherlands  |  2 | 1 | 0 | 0 | Canada       | 19277 | Stade Auguste-Delaune II | Stephanie Frappart     | NA                                               |\n",
       "| Group stage     | 1    | Tue | 2019-06-11 | 21:00:00 | USA          | 13 | 0 | 0 | 0 | Thailand     | 18591 | Stade Auguste-Delaune II | Laura Fortunato        | NA                                               |\n",
       "| Round of 16     | R16  | Sat | 2019-06-22 | 17:30:00 | Germany      |  3 | 0 | 0 | 0 | Nigeria      | 17988 | Stade des Alpes          | Yoshimi Yamashita      | NA                                               |\n",
       "| Group stage     | 1    | Sun | 2019-06-09 | 15:30:00 | Brazil       |  3 | 0 | 0 | 0 | Jamaica      | 17668 | Stade des Alpes          | Riem Hussein           | NA                                               |\n",
       "| Round of 16     | R16  | Tue | 2019-06-25 | 18:00:00 | Italy        |  2 | 0 | 0 | 0 | China PR     | 17492 | Stade de la Mosson       | Edina Alves Batista    | NA                                               |\n",
       "| Group stage     | 3    | Tue | 2019-06-18 | 21:00:00 | Jamaica      |  1 | 4 | 0 | 0 | Australia    | 17402 | Stade des Alpes          | Katalin Kulcsar        | NA                                               |\n",
       "| Group stage     | 2    | Thu | 2019-06-13 | 18:00:00 | Australia    |  3 | 2 | 0 | 0 | Brazil       | 17032 | Stade de la Mosson       | Esther Staubli         | NA                                               |\n",
       "| Group stage     | 1    | Tue | 2019-06-11 | 18:00:00 | Chile        |  0 | 2 | 0 | 0 | Sweden       | 15875 | Roazhon Park             | Lucila Venegas         | NA                                               |\n",
       "| Group stage     | 3    | Mon | 2019-06-17 | 18:00:00 | South Africa |  0 | 4 | 0 | 0 | Germany      | 15502 | Stade de la Mosson       | Sandra Braz            | NA                                               |\n",
       "| Group stage     | 1    | Sun | 2019-06-09 | 13:00:00 | Australia    |  1 | 2 | 0 | 0 | Italy        | 15380 | Stade du Hainaut         | Melissa Borjas         | NA                                               |\n",
       "| Group stage     | 1    | Sat | 2019-06-08 | 15:00:00 | Germany      |  1 | 0 | 0 | 0 | China PR     | 15283 | Roazhon Park             | Marie-Soleil Beaudoin  | NA                                               |\n",
       "| Group stage     | 2    | Sat | 2019-06-15 | 21:00:00 | Canada       |  2 | 0 | 0 | 0 | New Zealand  | 14856 | Stade des Alpes          | Yoshimi Yamashita      | NA                                               |\n",
       "| Group stage     | 3    | Wed | 2019-06-19 | 21:00:00 | Japan        |  0 | 2 | 0 | 0 | England      | 14319 | Stade de Nice            | Claudia Umpierrez      | NA                                               |\n",
       "| Group stage     | 3    | Thu | 2019-06-20 | 21:00:00 | Thailand     |  0 | 2 | 0 | 0 | Chile        | 13567 | Roazhon Park             | Anna-Marie Keighley    | NA                                               |\n",
       "| Group stage     | 2    | Fri | 2019-06-14 | 15:00:00 | Japan        |  2 | 1 | 0 | 0 | Scotland     | 13201 | Roazhon Park             | Lidya Tafesse          | NA                                               |\n",
       "| Group stage     | 1    | Sun | 2019-06-09 | 18:00:00 | England      |  2 | 1 | 0 | 0 | Scotland     | 13188 | Stade de Nice            | Jana Adamkova          | NA                                               |\n",
       "| Group stage     | 3    | Mon | 2019-06-17 | 21:00:00 | Korea Rep    |  1 | 2 | 0 | 0 | Norway       | 13034 | Stade Auguste-Delaune II | Marie-Soleil Beaudoin  | NA                                               |\n",
       "| Round of 16     | R16  | Sat | 2019-06-22 | 21:00:00 | Norway       |  1 | 1 | 4 | 1 | Australia    | 12229 | Stade de Nice            | Riem Hussein           | Norway won on penalty kicks following extra time |\n",
       "| Group stage     | 1    | Sat | 2019-06-08 | 18:00:00 | Spain        |  3 | 1 | 0 | 0 | South Africa | 12044 | Stade Oceane             | Maria Carvajal         | NA                                               |\n",
       "| Group stage     | 2    | Fri | 2019-06-14 | 18:00:00 | Jamaica      |  0 | 5 | 0 | 0 | Italy        | 12016 | Stade Auguste-Delaune II | Anna-Marie Keighley    | NA                                               |\n",
       "| Group stage     | 3    | Mon | 2019-06-17 | 18:00:00 | China PR     |  0 | 0 | 0 | 0 | Spain        | 11814 | Stade Oceane             | Edina Alves Batista    | NA                                               |\n",
       "| Group stage     | 2    | Wed | 2019-06-12 | 15:00:00 | Nigeria      |  2 | 0 | 0 | 0 | Korea Rep    | 11252 | Stade des Alpes          | Anastasia Pustovoitova | NA                                               |\n",
       "| Group stage     | 1    | Sat | 2019-06-08 | 21:00:00 | Norway       |  3 | 0 | 0 | 0 | Nigeria      | 11058 | Stade Auguste-Delaune II | Kate Jacewicz          | NA                                               |\n",
       "| Group stage     | 1    | Mon | 2019-06-10 | 21:00:00 | Canada       |  1 | 0 | 0 | 0 | Cameroon     | 10710 | Stade de la Mosson       | Ri Hyang Ok            | NA                                               |\n",
       "| Group stage     | 1    | Tue | 2019-06-11 | 15:00:00 | New Zealand  |  0 | 1 | 0 | 0 | Netherlands  | 10654 | Stade Oceane             | Edina Alves Batista    | NA                                               |\n",
       "| Group stage     | 2    | Sun | 2019-06-16 | 15:00:00 | Sweden       |  5 | 1 | 0 | 0 | Thailand     |  9354 | Stade de Nice            | Salma Mukansanga       | NA                                               |\n",
       "| Group stage     | 3    | Thu | 2019-06-20 | 18:00:00 | Cameroon     |  2 | 1 | 0 | 0 | New Zealand  |  8009 | Stade de la Mosson       | Kateryna Monzul        | NA                                               |\n",
       "\n"
      ],
      "text/plain": [
       "   round           wk   day date       time     home         home_score\n",
       "1  Final           FIN  Sun 2019-07-07 17:00:00 USA           2        \n",
       "2  Semifinals      SMIF Tue 2019-07-02 21:00:00 England       1        \n",
       "3  Semifinals      SMIF Wed 2019-07-03 21:00:00 Netherlands   1        \n",
       "4  Quarterfinals   QRTF Fri 2019-06-28 21:00:00 France        1        \n",
       "5  Group stage     2    Sun 2019-06-16 18:00:00 USA           3        \n",
       "6  Group stage     1    Fri 2019-06-07 21:00:00 France        4        \n",
       "7  Round of 16     R16  Mon 2019-06-24 21:00:00 Sweden        1        \n",
       "8  Group stage     2    Wed 2019-06-12 21:00:00 France        2        \n",
       "9  Group stage     3    Mon 2019-06-17 21:00:00 Nigeria       0        \n",
       "10 Group stage     3    Wed 2019-06-19 21:00:00 Scotland      3        \n",
       "11 Quarterfinals   QRTF Sat 2019-06-29 18:30:00 Germany       1        \n",
       "12 Group stage     1    Mon 2019-06-10 18:00:00 Argentina     0        \n",
       "13 Round of 16     R16  Sun 2019-06-23 21:00:00 France        2        \n",
       "14 Quarterfinals   QRTF Sat 2019-06-29 15:00:00 Italy         0        \n",
       "15 Group stage     2    Sat 2019-06-15 15:00:00 Netherlands   3        \n",
       "16 Group stage     3    Thu 2019-06-20 21:00:00 Sweden        0        \n",
       "17 Group stage     3    Tue 2019-06-18 21:00:00 Italy         0        \n",
       "18 Quarterfinals   QRTF Thu 2019-06-27 21:00:00 Norway        0        \n",
       "19 Round of 16     R16  Tue 2019-06-25 21:00:00 Netherlands   2        \n",
       "20 Group stage     2    Wed 2019-06-12 18:00:00 Germany       1        \n",
       "21 3rd-place match 3rd  Sat 2019-07-06 17:00:00 England       1        \n",
       "22 Group stage     2    Fri 2019-06-14 21:00:00 England       1        \n",
       "23 Round of 16     R16  Sun 2019-06-23 17:30:00 England       3        \n",
       "24 Group stage     2    Thu 2019-06-13 21:00:00 South Africa  0        \n",
       "25 Round of 16     R16  Mon 2019-06-24 18:00:00 Spain         1        \n",
       "26 Group stage     3    Thu 2019-06-20 18:00:00 Netherlands   2        \n",
       "27 Group stage     1    Tue 2019-06-11 21:00:00 USA          13        \n",
       "28 Round of 16     R16  Sat 2019-06-22 17:30:00 Germany       3        \n",
       "29 Group stage     1    Sun 2019-06-09 15:30:00 Brazil        3        \n",
       "30 Round of 16     R16  Tue 2019-06-25 18:00:00 Italy         2        \n",
       "31 Group stage     3    Tue 2019-06-18 21:00:00 Jamaica       1        \n",
       "32 Group stage     2    Thu 2019-06-13 18:00:00 Australia     3        \n",
       "33 Group stage     1    Tue 2019-06-11 18:00:00 Chile         0        \n",
       "34 Group stage     3    Mon 2019-06-17 18:00:00 South Africa  0        \n",
       "35 Group stage     1    Sun 2019-06-09 13:00:00 Australia     1        \n",
       "36 Group stage     1    Sat 2019-06-08 15:00:00 Germany       1        \n",
       "37 Group stage     2    Sat 2019-06-15 21:00:00 Canada        2        \n",
       "38 Group stage     3    Wed 2019-06-19 21:00:00 Japan         0        \n",
       "39 Group stage     3    Thu 2019-06-20 21:00:00 Thailand      0        \n",
       "40 Group stage     2    Fri 2019-06-14 15:00:00 Japan         2        \n",
       "41 Group stage     1    Sun 2019-06-09 18:00:00 England       2        \n",
       "42 Group stage     3    Mon 2019-06-17 21:00:00 Korea Rep     1        \n",
       "43 Round of 16     R16  Sat 2019-06-22 21:00:00 Norway        1        \n",
       "44 Group stage     1    Sat 2019-06-08 18:00:00 Spain         3        \n",
       "45 Group stage     2    Fri 2019-06-14 18:00:00 Jamaica       0        \n",
       "46 Group stage     3    Mon 2019-06-17 18:00:00 China PR      0        \n",
       "47 Group stage     2    Wed 2019-06-12 15:00:00 Nigeria       2        \n",
       "48 Group stage     1    Sat 2019-06-08 21:00:00 Norway        3        \n",
       "49 Group stage     1    Mon 2019-06-10 21:00:00 Canada        1        \n",
       "50 Group stage     1    Tue 2019-06-11 15:00:00 New Zealand   0        \n",
       "51 Group stage     2    Sun 2019-06-16 15:00:00 Sweden        5        \n",
       "52 Group stage     3    Thu 2019-06-20 18:00:00 Cameroon      2        \n",
       "   away_score home_pks away_pks away         attendance\n",
       "1  0          0        0        Netherlands  57900     \n",
       "2  2          0        0        USA          53512     \n",
       "3  0          0        0        Sweden       48452     \n",
       "4  2          0        0        USA          45595     \n",
       "5  0          0        0        Chile        45594     \n",
       "6  0          0        0        Korea Rep    45261     \n",
       "7  0          0        0        Canada       38078     \n",
       "8  1          0        0        Norway       34872     \n",
       "9  1          0        0        France       28267     \n",
       "10 3          0        0        Argentina    28205     \n",
       "11 2          0        0        Sweden       25301     \n",
       "12 0          0        0        Japan        25055     \n",
       "13 1          0        0        Brazil       23965     \n",
       "14 2          0        0        Netherlands  22600     \n",
       "15 1          0        0        Cameroon     22423     \n",
       "16 2          0        0        USA          22418     \n",
       "17 1          0        0        Brazil       21669     \n",
       "18 3          0        0        England      21111     \n",
       "19 1          0        0        Japan        21076     \n",
       "20 0          0        0        Spain        20761     \n",
       "21 2          0        0        Sweden       20316     \n",
       "22 0          0        0        Argentina    20294     \n",
       "23 0          0        0        Cameroon     20148     \n",
       "24 1          0        0        China PR     20011     \n",
       "25 2          0        0        USA          19633     \n",
       "26 1          0        0        Canada       19277     \n",
       "27 0          0        0        Thailand     18591     \n",
       "28 0          0        0        Nigeria      17988     \n",
       "29 0          0        0        Jamaica      17668     \n",
       "30 0          0        0        China PR     17492     \n",
       "31 4          0        0        Australia    17402     \n",
       "32 2          0        0        Brazil       17032     \n",
       "33 2          0        0        Sweden       15875     \n",
       "34 4          0        0        Germany      15502     \n",
       "35 2          0        0        Italy        15380     \n",
       "36 0          0        0        China PR     15283     \n",
       "37 0          0        0        New Zealand  14856     \n",
       "38 2          0        0        England      14319     \n",
       "39 2          0        0        Chile        13567     \n",
       "40 1          0        0        Scotland     13201     \n",
       "41 1          0        0        Scotland     13188     \n",
       "42 2          0        0        Norway       13034     \n",
       "43 1          4        1        Australia    12229     \n",
       "44 1          0        0        South Africa 12044     \n",
       "45 5          0        0        Italy        12016     \n",
       "46 0          0        0        Spain        11814     \n",
       "47 0          0        0        Korea Rep    11252     \n",
       "48 0          0        0        Nigeria      11058     \n",
       "49 0          0        0        Cameroon     10710     \n",
       "50 1          0        0        Netherlands  10654     \n",
       "51 1          0        0        Thailand      9354     \n",
       "52 1          0        0        New Zealand   8009     \n",
       "   venue                    referee               \n",
       "1  Groupama Stadium         Stephanie Frappart    \n",
       "2  Groupama Stadium         Edina Alves Batista   \n",
       "3  Groupama Stadium         Marie-Soleil Beaudoin \n",
       "4  Parc des Princes         Kateryna Monzul       \n",
       "5  Parc des Princes         Riem Hussein          \n",
       "6  Parc des Princes         Claudia Umpierrez     \n",
       "7  Parc des Princes         Kate Jacewicz         \n",
       "8  Stade de Nice            Bibiana Steinhaus     \n",
       "9  Roazhon Park             Melissa Borjas        \n",
       "10 Parc des Princes         Ri Hyang Ok           \n",
       "11 Roazhon Park             Stephanie Frappart    \n",
       "12 Parc des Princes         Stephanie Frappart    \n",
       "13 Stade Oceane             Marie-Soleil Beaudoin \n",
       "14 Stade du Hainaut         Claudia Umpierrez     \n",
       "15 Stade du Hainaut         Casey Reibelt         \n",
       "16 Stade Oceane             Anastasia Pustovoitova\n",
       "17 Stade du Hainaut         Lucila Venegas        \n",
       "18 Stade Oceane             Lucila Venegas        \n",
       "19 Roazhon Park             Melissa Borjas        \n",
       "20 Stade du Hainaut         Kateryna Monzul       \n",
       "21 Stade de Nice            Anastasia Pustovoitova\n",
       "22 Stade Oceane             Qin Liang             \n",
       "23 Stade du Hainaut         Qin Liang             \n",
       "24 Parc des Princes         Katalin Kulcsar       \n",
       "25 Stade Auguste-Delaune II Katalin Kulcsar       \n",
       "26 Stade Auguste-Delaune II Stephanie Frappart    \n",
       "27 Stade Auguste-Delaune II Laura Fortunato       \n",
       "28 Stade des Alpes          Yoshimi Yamashita     \n",
       "29 Stade des Alpes          Riem Hussein          \n",
       "30 Stade de la Mosson       Edina Alves Batista   \n",
       "31 Stade des Alpes          Katalin Kulcsar       \n",
       "32 Stade de la Mosson       Esther Staubli        \n",
       "33 Roazhon Park             Lucila Venegas        \n",
       "34 Stade de la Mosson       Sandra Braz           \n",
       "35 Stade du Hainaut         Melissa Borjas        \n",
       "36 Roazhon Park             Marie-Soleil Beaudoin \n",
       "37 Stade des Alpes          Yoshimi Yamashita     \n",
       "38 Stade de Nice            Claudia Umpierrez     \n",
       "39 Roazhon Park             Anna-Marie Keighley   \n",
       "40 Roazhon Park             Lidya Tafesse         \n",
       "41 Stade de Nice            Jana Adamkova         \n",
       "42 Stade Auguste-Delaune II Marie-Soleil Beaudoin \n",
       "43 Stade de Nice            Riem Hussein          \n",
       "44 Stade Oceane             Maria Carvajal        \n",
       "45 Stade Auguste-Delaune II Anna-Marie Keighley   \n",
       "46 Stade Oceane             Edina Alves Batista   \n",
       "47 Stade des Alpes          Anastasia Pustovoitova\n",
       "48 Stade Auguste-Delaune II Kate Jacewicz         \n",
       "49 Stade de la Mosson       Ri Hyang Ok           \n",
       "50 Stade Oceane             Edina Alves Batista   \n",
       "51 Stade de Nice            Salma Mukansanga      \n",
       "52 Stade de la Mosson       Kateryna Monzul       \n",
       "   notes                                           \n",
       "1  NA                                              \n",
       "2  NA                                              \n",
       "3  Required Extra Time                             \n",
       "4  NA                                              \n",
       "5  NA                                              \n",
       "6  NA                                              \n",
       "7  NA                                              \n",
       "8  NA                                              \n",
       "9  NA                                              \n",
       "10 NA                                              \n",
       "11 NA                                              \n",
       "12 NA                                              \n",
       "13 Required Extra Time                             \n",
       "14 NA                                              \n",
       "15 NA                                              \n",
       "16 NA                                              \n",
       "17 NA                                              \n",
       "18 NA                                              \n",
       "19 NA                                              \n",
       "20 NA                                              \n",
       "21 NA                                              \n",
       "22 NA                                              \n",
       "23 NA                                              \n",
       "24 NA                                              \n",
       "25 NA                                              \n",
       "26 NA                                              \n",
       "27 NA                                              \n",
       "28 NA                                              \n",
       "29 NA                                              \n",
       "30 NA                                              \n",
       "31 NA                                              \n",
       "32 NA                                              \n",
       "33 NA                                              \n",
       "34 NA                                              \n",
       "35 NA                                              \n",
       "36 NA                                              \n",
       "37 NA                                              \n",
       "38 NA                                              \n",
       "39 NA                                              \n",
       "40 NA                                              \n",
       "41 NA                                              \n",
       "42 NA                                              \n",
       "43 Norway won on penalty kicks following extra time\n",
       "44 NA                                              \n",
       "45 NA                                              \n",
       "46 NA                                              \n",
       "47 NA                                              \n",
       "48 NA                                              \n",
       "49 NA                                              \n",
       "50 NA                                              \n",
       "51 NA                                              \n",
       "52 NA                                              "
      ]
     },
     "metadata": {},
     "output_type": "display_data"
    }
   ],
   "source": [
    "wwc_4 %>% arrange(desc(attendance))\n",
    "\n",
    "# What game had the higest attendance?\n",
    "ans_1  <- \"B\"\n",
    "\n",
    "# Which stadium was the game with highest attendance play in?\n",
    "ans_2  <- \"A\""
   ]
  }
 ],
 "metadata": {
  "kernelspec": {
   "display_name": "R",
   "language": "R",
   "name": "ir"
  },
  "language_info": {
   "codemirror_mode": "r",
   "file_extension": ".r",
   "mimetype": "text/x-r-source",
   "name": "R",
   "pygments_lexer": "r",
   "version": "3.5.3"
  }
 },
 "nbformat": 4,
 "nbformat_minor": 2
}
